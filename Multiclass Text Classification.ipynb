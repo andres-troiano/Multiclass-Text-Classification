{
 "cells": [
  {
   "cell_type": "code",
   "execution_count": 21,
   "metadata": {},
   "outputs": [],
   "source": [
    "import numpy as np\n",
    "import pandas as pd\n",
    "import matplotlib.pyplot as plt\n",
    "import seaborn as sns\n",
    "%matplotlib inline\n",
    "import random\n",
    "from sklearn.model_selection import train_test_split\n",
    "import warnings"
   ]
  },
  {
   "cell_type": "code",
   "execution_count": 2,
   "metadata": {},
   "outputs": [
    {
     "data": {
      "text/html": [
       "<div>\n",
       "<style scoped>\n",
       "    .dataframe tbody tr th:only-of-type {\n",
       "        vertical-align: middle;\n",
       "    }\n",
       "\n",
       "    .dataframe tbody tr th {\n",
       "        vertical-align: top;\n",
       "    }\n",
       "\n",
       "    .dataframe thead th {\n",
       "        text-align: right;\n",
       "    }\n",
       "</style>\n",
       "<table border=\"1\" class=\"dataframe\">\n",
       "  <thead>\n",
       "    <tr style=\"text-align: right;\">\n",
       "      <th></th>\n",
       "      <th>motivos</th>\n",
       "      <th>crec</th>\n",
       "      <th>cred</th>\n",
       "      <th>equ</th>\n",
       "      <th>inic</th>\n",
       "      <th>inv</th>\n",
       "      <th>mkt</th>\n",
       "      <th>no</th>\n",
       "      <th>renta</th>\n",
       "      <th>sueldo</th>\n",
       "      <th>temp</th>\n",
       "    </tr>\n",
       "  </thead>\n",
       "  <tbody>\n",
       "    <tr>\n",
       "      <th>0</th>\n",
       "      <td>Crear un departamento de ventas e inversión a ...</td>\n",
       "      <td>0</td>\n",
       "      <td>0</td>\n",
       "      <td>0</td>\n",
       "      <td>0</td>\n",
       "      <td>0</td>\n",
       "      <td>1</td>\n",
       "      <td>0</td>\n",
       "      <td>0</td>\n",
       "      <td>0</td>\n",
       "      <td>0.0</td>\n",
       "    </tr>\n",
       "    <tr>\n",
       "      <th>1</th>\n",
       "      <td>establecerme en un local y agregar materia pri...</td>\n",
       "      <td>0</td>\n",
       "      <td>0</td>\n",
       "      <td>0</td>\n",
       "      <td>0</td>\n",
       "      <td>1</td>\n",
       "      <td>0</td>\n",
       "      <td>0</td>\n",
       "      <td>1</td>\n",
       "      <td>0</td>\n",
       "      <td>0.0</td>\n",
       "    </tr>\n",
       "    <tr>\n",
       "      <th>2</th>\n",
       "      <td>Compra de equipo e incrementar inventario</td>\n",
       "      <td>0</td>\n",
       "      <td>0</td>\n",
       "      <td>1</td>\n",
       "      <td>0</td>\n",
       "      <td>1</td>\n",
       "      <td>0</td>\n",
       "      <td>0</td>\n",
       "      <td>0</td>\n",
       "      <td>0</td>\n",
       "      <td>0.0</td>\n",
       "    </tr>\n",
       "    <tr>\n",
       "      <th>3</th>\n",
       "      <td>Invertir en crecimiento de flotilla de unidade...</td>\n",
       "      <td>0</td>\n",
       "      <td>0</td>\n",
       "      <td>1</td>\n",
       "      <td>0</td>\n",
       "      <td>0</td>\n",
       "      <td>0</td>\n",
       "      <td>0</td>\n",
       "      <td>0</td>\n",
       "      <td>0</td>\n",
       "      <td>0.0</td>\n",
       "    </tr>\n",
       "    <tr>\n",
       "      <th>4</th>\n",
       "      <td>Para comprar mercancía y comprar lonas nuevas</td>\n",
       "      <td>0</td>\n",
       "      <td>0</td>\n",
       "      <td>0</td>\n",
       "      <td>0</td>\n",
       "      <td>1</td>\n",
       "      <td>0</td>\n",
       "      <td>0</td>\n",
       "      <td>0</td>\n",
       "      <td>0</td>\n",
       "      <td>0.0</td>\n",
       "    </tr>\n",
       "  </tbody>\n",
       "</table>\n",
       "</div>"
      ],
      "text/plain": [
       "                                             motivos  crec  cred  equ  inic  \\\n",
       "0  Crear un departamento de ventas e inversión a ...     0     0    0     0   \n",
       "1  establecerme en un local y agregar materia pri...     0     0    0     0   \n",
       "2          Compra de equipo e incrementar inventario     0     0    1     0   \n",
       "3  Invertir en crecimiento de flotilla de unidade...     0     0    1     0   \n",
       "4      Para comprar mercancía y comprar lonas nuevas     0     0    0     0   \n",
       "\n",
       "   inv  mkt  no  renta  sueldo  temp  \n",
       "0    0    1   0      0       0   0.0  \n",
       "1    1    0   0      1       0   0.0  \n",
       "2    1    0   0      0       0   0.0  \n",
       "3    0    0   0      0       0   0.0  \n",
       "4    1    0   0      0       0   0.0  "
      ]
     },
     "execution_count": 2,
     "metadata": {},
     "output_type": "execute_result"
    }
   ],
   "source": [
    "df = pd.read_csv(\"intent.csv\")\n",
    "df.head()"
   ]
  },
  {
   "cell_type": "code",
   "execution_count": 4,
   "metadata": {},
   "outputs": [
    {
     "name": "stdout",
     "output_type": "stream",
     "text": [
      "<class 'pandas.core.frame.DataFrame'>\n",
      "RangeIndex: 6679 entries, 0 to 6678\n",
      "Data columns (total 11 columns):\n",
      " #   Column   Non-Null Count  Dtype  \n",
      "---  ------   --------------  -----  \n",
      " 0   motivos  6679 non-null   object \n",
      " 1   crec     6679 non-null   int64  \n",
      " 2   cred     6679 non-null   int64  \n",
      " 3   equ      6679 non-null   int64  \n",
      " 4   inic     6679 non-null   int64  \n",
      " 5   inv      6679 non-null   int64  \n",
      " 6   mkt      6679 non-null   int64  \n",
      " 7   no       6679 non-null   int64  \n",
      " 8   renta    6679 non-null   int64  \n",
      " 9   sueldo   6679 non-null   int64  \n",
      " 10  temp     6673 non-null   float64\n",
      "dtypes: float64(1), int64(9), object(1)\n",
      "memory usage: 574.1+ KB\n"
     ]
    }
   ],
   "source": [
    "df.info()"
   ]
  },
  {
   "cell_type": "markdown",
   "metadata": {},
   "source": [
    "Variable `temp` should be int, but was cast as float. This possibly indicates data entry errors.\n",
    "\n",
    "Print unique values (should be 0, 1 for all variables):"
   ]
  },
  {
   "cell_type": "code",
   "execution_count": 5,
   "metadata": {},
   "outputs": [
    {
     "name": "stdout",
     "output_type": "stream",
     "text": [
      "Unique values of column: crec\n",
      "0    6079\n",
      "1     600\n",
      "Name: crec, dtype: int64\n",
      "\n",
      "Unique values of column: cred\n",
      "0    6250\n",
      "1     429\n",
      "Name: cred, dtype: int64\n",
      "\n",
      "Unique values of column: equ\n",
      "0    4699\n",
      "1    1980\n",
      "Name: equ, dtype: int64\n",
      "\n",
      "Unique values of column: inic\n",
      "0    6298\n",
      "1     381\n",
      "Name: inic, dtype: int64\n",
      "\n",
      "Unique values of column: inv\n",
      "0    4361\n",
      "1    2318\n",
      "Name: inv, dtype: int64\n",
      "\n",
      "Unique values of column: mkt\n",
      "0    6350\n",
      "1     329\n",
      "Name: mkt, dtype: int64\n",
      "\n",
      "Unique values of column: no\n",
      "0    6235\n",
      "1     444\n",
      "Name: no, dtype: int64\n",
      "\n",
      "Unique values of column: renta\n",
      "0    5909\n",
      "1     770\n",
      "Name: renta, dtype: int64\n",
      "\n",
      "Unique values of column: sueldo\n",
      "0    6464\n",
      "1     215\n",
      "Name: sueldo, dtype: int64\n",
      "\n",
      "Unique values of column: temp\n",
      "0.0    6484\n",
      "1.0     189\n",
      "Name: temp, dtype: int64\n",
      "\n"
     ]
    }
   ],
   "source": [
    "for i in df.columns[1:]:\n",
    "    print('Unique values of column:', i)\n",
    "    print(df[i].value_counts())\n",
    "    print()"
   ]
  },
  {
   "cell_type": "markdown",
   "metadata": {},
   "source": [
    "There are no decimal values on variable `temp`, so will convert to int:"
   ]
  },
  {
   "cell_type": "code",
   "execution_count": 17,
   "metadata": {},
   "outputs": [],
   "source": [
    "# df = df.astype({\"temp\":'int'}) \n",
    "# df.info()"
   ]
  },
  {
   "cell_type": "markdown",
   "metadata": {},
   "source": [
    "Dice que tiene NA o inf, pero en la distribución y en los unique values no aparecen (?)"
   ]
  },
  {
   "cell_type": "code",
   "execution_count": 9,
   "metadata": {},
   "outputs": [
    {
     "data": {
      "image/png": "[encoded data removed]",
      "text/plain": [
       "<Figure size 864x432 with 1 Axes>"
      ]
     },
     "metadata": {
      "needs_background": "light"
     },
     "output_type": "display_data"
    }
   ],
   "source": [
    "# Visualize missings pattern of the dataframe\n",
    "plt.figure(figsize=(12,6))\n",
    "sns.heatmap(df.isnull(), cbar=False)\n",
    "plt.show()"
   ]
  },
  {
   "cell_type": "code",
   "execution_count": 12,
   "metadata": {},
   "outputs": [
    {
     "name": "stdout",
     "output_type": "stream",
     "text": [
      "It contains 0 infinite values\n"
     ]
    }
   ],
   "source": [
    "# counting infinity in a particular column name\n",
    "c = np.isinf(df['temp']).values.sum()\n",
    "print(\"It contains \" + str(c) + \" infinite values\")"
   ]
  },
  {
   "cell_type": "code",
   "execution_count": 15,
   "metadata": {},
   "outputs": [
    {
     "data": {
      "text/plain": [
       "6"
      ]
     },
     "execution_count": 15,
     "metadata": {},
     "output_type": "execute_result"
    }
   ],
   "source": [
    "df['temp'].isna().sum()"
   ]
  },
  {
   "cell_type": "code",
   "execution_count": 16,
   "metadata": {},
   "outputs": [
    {
     "data": {
      "text/html": [
       "<div>\n",
       "<style scoped>\n",
       "    .dataframe tbody tr th:only-of-type {\n",
       "        vertical-align: middle;\n",
       "    }\n",
       "\n",
       "    .dataframe tbody tr th {\n",
       "        vertical-align: top;\n",
       "    }\n",
       "\n",
       "    .dataframe thead th {\n",
       "        text-align: right;\n",
       "    }\n",
       "</style>\n",
       "<table border=\"1\" class=\"dataframe\">\n",
       "  <thead>\n",
       "    <tr style=\"text-align: right;\">\n",
       "      <th></th>\n",
       "      <th>motivos</th>\n",
       "      <th>crec</th>\n",
       "      <th>cred</th>\n",
       "      <th>equ</th>\n",
       "      <th>inic</th>\n",
       "      <th>inv</th>\n",
       "      <th>mkt</th>\n",
       "      <th>no</th>\n",
       "      <th>renta</th>\n",
       "      <th>sueldo</th>\n",
       "      <th>temp</th>\n",
       "    </tr>\n",
       "  </thead>\n",
       "  <tbody>\n",
       "    <tr>\n",
       "      <th>628</th>\n",
       "      <td>CAPITAL DE TRABAJO COMPRA DE MATERIA Y MANO DE...</td>\n",
       "      <td>0</td>\n",
       "      <td>0</td>\n",
       "      <td>0</td>\n",
       "      <td>1</td>\n",
       "      <td>0</td>\n",
       "      <td>0</td>\n",
       "      <td>0</td>\n",
       "      <td>1</td>\n",
       "      <td>0</td>\n",
       "      <td>NaN</td>\n",
       "    </tr>\n",
       "    <tr>\n",
       "      <th>710</th>\n",
       "      <td>Para incrementar ventas tener inventarios</td>\n",
       "      <td>0</td>\n",
       "      <td>0</td>\n",
       "      <td>0</td>\n",
       "      <td>1</td>\n",
       "      <td>0</td>\n",
       "      <td>0</td>\n",
       "      <td>0</td>\n",
       "      <td>0</td>\n",
       "      <td>0</td>\n",
       "      <td>NaN</td>\n",
       "    </tr>\n",
       "    <tr>\n",
       "      <th>1130</th>\n",
       "      <td>Capital de trabajo\\n,0,0,0,0,0,0,0,1,0,0\\nRe i...</td>\n",
       "      <td>0</td>\n",
       "      <td>0</td>\n",
       "      <td>0</td>\n",
       "      <td>0</td>\n",
       "      <td>0</td>\n",
       "      <td>0</td>\n",
       "      <td>0</td>\n",
       "      <td>0</td>\n",
       "      <td>0</td>\n",
       "      <td>NaN</td>\n",
       "    </tr>\n",
       "    <tr>\n",
       "      <th>1437</th>\n",
       "      <td>Tengo que hacer renovación de Consepción</td>\n",
       "      <td>0</td>\n",
       "      <td>0</td>\n",
       "      <td>0</td>\n",
       "      <td>0</td>\n",
       "      <td>0</td>\n",
       "      <td>1</td>\n",
       "      <td>0</td>\n",
       "      <td>0</td>\n",
       "      <td>0</td>\n",
       "      <td>NaN</td>\n",
       "    </tr>\n",
       "    <tr>\n",
       "      <th>1699</th>\n",
       "      <td>PARA LA COMPRA DE ACTIVOS FIJOS PARA LA EMPRESA</td>\n",
       "      <td>0</td>\n",
       "      <td>0</td>\n",
       "      <td>0</td>\n",
       "      <td>1</td>\n",
       "      <td>0</td>\n",
       "      <td>0</td>\n",
       "      <td>0</td>\n",
       "      <td>0</td>\n",
       "      <td>0</td>\n",
       "      <td>NaN</td>\n",
       "    </tr>\n",
       "    <tr>\n",
       "      <th>2263</th>\n",
       "      <td>Compra de equipos de cómputo para lanzar proye...</td>\n",
       "      <td>0</td>\n",
       "      <td>1</td>\n",
       "      <td>0</td>\n",
       "      <td>0</td>\n",
       "      <td>0</td>\n",
       "      <td>0</td>\n",
       "      <td>0</td>\n",
       "      <td>0</td>\n",
       "      <td>0</td>\n",
       "      <td>NaN</td>\n",
       "    </tr>\n",
       "  </tbody>\n",
       "</table>\n",
       "</div>"
      ],
      "text/plain": [
       "                                                motivos  crec  cred  equ  \\\n",
       "628   CAPITAL DE TRABAJO COMPRA DE MATERIA Y MANO DE...     0     0    0   \n",
       "710           Para incrementar ventas tener inventarios     0     0    0   \n",
       "1130  Capital de trabajo\\n,0,0,0,0,0,0,0,1,0,0\\nRe i...     0     0    0   \n",
       "1437           Tengo que hacer renovación de Consepción     0     0    0   \n",
       "1699    PARA LA COMPRA DE ACTIVOS FIJOS PARA LA EMPRESA     0     0    0   \n",
       "2263  Compra de equipos de cómputo para lanzar proye...     0     1    0   \n",
       "\n",
       "      inic  inv  mkt  no  renta  sueldo  temp  \n",
       "628      1    0    0   0      1       0   NaN  \n",
       "710      1    0    0   0      0       0   NaN  \n",
       "1130     0    0    0   0      0       0   NaN  \n",
       "1437     0    0    1   0      0       0   NaN  \n",
       "1699     1    0    0   0      0       0   NaN  \n",
       "2263     0    0    0   0      0       0   NaN  "
      ]
     },
     "execution_count": 16,
     "metadata": {},
     "output_type": "execute_result"
    }
   ],
   "source": [
    "df[df.isna().any(axis=1)]"
   ]
  },
  {
   "cell_type": "markdown",
   "metadata": {},
   "source": [
    "We could drop the rows. But since most rows have other labels besides `temp`, it would be preferrable to keep them. So we will impute the NaNs with the median, which will be 0:"
   ]
  },
  {
   "cell_type": "code",
   "execution_count": 19,
   "metadata": {},
   "outputs": [
    {
     "data": {
      "text/plain": [
       "motivos    0\n",
       "crec       0\n",
       "cred       0\n",
       "equ        0\n",
       "inic       0\n",
       "inv        0\n",
       "mkt        0\n",
       "no         0\n",
       "renta      0\n",
       "sueldo     0\n",
       "temp       0\n",
       "dtype: int64"
      ]
     },
     "execution_count": 19,
     "metadata": {},
     "output_type": "execute_result"
    }
   ],
   "source": [
    "df['temp'].fillna(df['temp'].median(), inplace=True)\n",
    "df.isna().sum()"
   ]
  },
  {
   "cell_type": "markdown",
   "metadata": {},
   "source": [
    "We want to see if the dataset is balanced:"
   ]
  },
  {
   "cell_type": "code",
   "execution_count": 26,
   "metadata": {},
   "outputs": [
    {
     "data": {
      "image/png": "[encoded data removed]",
      "text/plain": [
       "<Figure size 864x1008 with 10 Axes>"
      ]
     },
     "metadata": {
      "needs_background": "light"
     },
     "output_type": "display_data"
    }
   ],
   "source": [
    "warnings.simplefilter(action='ignore', category=FutureWarning)\n",
    "\n",
    "n_rows = 4\n",
    "n_cols = 3\n",
    "\n",
    "fig, axes = plt.subplots(nrows=n_rows, ncols=n_cols, figsize=(12,14))\n",
    "\n",
    "for i, column in enumerate(df.drop(['motivos'], axis=1).columns):\n",
    "    sns.distplot(df.drop(['motivos'], axis=1)[column],ax=axes[i//n_cols,i%n_cols])\n",
    "    \n",
    "fig.delaxes(axes[3,2])\n",
    "fig.delaxes(axes[3,1])"
   ]
  },
  {
   "cell_type": "markdown",
   "metadata": {},
   "source": [
    "As expected, all classes are very imbalanced, with 1 being the minority class."
   ]
  },
  {
   "cell_type": "code",
   "execution_count": null,
   "metadata": {},
   "outputs": [],
   "source": []
  }
 ],
 "metadata": {
  "kernelspec": {
   "display_name": "Python 3",
   "language": "python",
   "name": "python3"
  },
  "language_info": {
   "codemirror_mode": {
    "name": "ipython",
    "version": 3
   },
   "file_extension": ".py",
   "mimetype": "text/x-python",
   "name": "python",
   "nbconvert_exporter": "python",
   "pygments_lexer": "ipython3",
   "version": "3.8.5"
  }
 },
 "nbformat": 4,
 "nbformat_minor": 4
}
