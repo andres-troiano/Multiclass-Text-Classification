{
  "nbformat": 4,
  "nbformat_minor": 0,
  "metadata": {
    "colab": {
      "name": "Multiclass Text Classification - LSTM.ipynb",
      "provenance": [],
      "collapsed_sections": []
    },
    "kernelspec": {
      "name": "python3",
      "display_name": "Python 3"
    },
    "language_info": {
      "name": "python"
    },
    "accelerator": "TPU"
  },
  "cells": [
    {
      "cell_type": "markdown",
      "metadata": {
        "id": "UrMUfP6BL16W"
      },
      "source": [
        "# Multiclass Text Classification using LSTM architecture\n",
        "(Runs best on a TPU)"
      ]
    },
    {
      "cell_type": "code",
      "metadata": {
        "id": "CEoxHe_-G9iV"
      },
      "source": [
        "import numpy as np\n",
        "import pandas as pd\n",
        "import matplotlib.pyplot as plt\n",
        "import seaborn as sns\n",
        "%matplotlib inline\n",
        "sns.set_style('whitegrid')"
      ],
      "execution_count": 1,
      "outputs": []
    },
    {
      "cell_type": "code",
      "metadata": {
        "colab": {
          "base_uri": "https://localhost:8080/"
        },
        "id": "K__63-sZHxF4",
        "outputId": "16a90e91-bd62-41a0-d4fe-27a2db9919bc"
      },
      "source": [
        "df = pd.read_csv('drive/MyDrive/Multiclass Text Classification/intent.csv')\n",
        "df.info()"
      ],
      "execution_count": 2,
      "outputs": [
        {
          "output_type": "stream",
          "text": [
            "<class 'pandas.core.frame.DataFrame'>\n",
            "RangeIndex: 6679 entries, 0 to 6678\n",
            "Data columns (total 11 columns):\n",
            " #   Column   Non-Null Count  Dtype  \n",
            "---  ------   --------------  -----  \n",
            " 0   motivos  6679 non-null   object \n",
            " 1   crec     6679 non-null   int64  \n",
            " 2   cred     6679 non-null   int64  \n",
            " 3   equ      6679 non-null   int64  \n",
            " 4   inic     6679 non-null   int64  \n",
            " 5   inv      6679 non-null   int64  \n",
            " 6   mkt      6679 non-null   int64  \n",
            " 7   no       6679 non-null   int64  \n",
            " 8   renta    6679 non-null   int64  \n",
            " 9   sueldo   6679 non-null   int64  \n",
            " 10  temp     6673 non-null   float64\n",
            "dtypes: float64(1), int64(9), object(1)\n",
            "memory usage: 574.1+ KB\n"
          ],
          "name": "stdout"
        }
      ]
    },
    {
      "cell_type": "code",
      "metadata": {
        "colab": {
          "base_uri": "https://localhost:8080/"
        },
        "id": "oiWdNrs3ImfB",
        "outputId": "2329b403-5c55-40be-aa88-4723139a569e"
      },
      "source": [
        "df['temp'].fillna(df['temp'].median(), inplace=True)\n",
        "df.isna().sum()"
      ],
      "execution_count": 3,
      "outputs": [
        {
          "output_type": "execute_result",
          "data": {
            "text/plain": [
              "motivos    0\n",
              "crec       0\n",
              "cred       0\n",
              "equ        0\n",
              "inic       0\n",
              "inv        0\n",
              "mkt        0\n",
              "no         0\n",
              "renta      0\n",
              "sueldo     0\n",
              "temp       0\n",
              "dtype: int64"
            ]
          },
          "metadata": {
            "tags": []
          },
          "execution_count": 3
        }
      ]
    },
    {
      "cell_type": "code",
      "metadata": {
        "colab": {
          "base_uri": "https://localhost:8080/"
        },
        "id": "RWfNzAnKIoCD",
        "outputId": "2ff2a312-834f-4616-e4d3-7af8cc292e06"
      },
      "source": [
        "df = df.astype({\"temp\":'int'}) \n",
        "df.info()"
      ],
      "execution_count": 4,
      "outputs": [
        {
          "output_type": "stream",
          "text": [
            "<class 'pandas.core.frame.DataFrame'>\n",
            "RangeIndex: 6679 entries, 0 to 6678\n",
            "Data columns (total 11 columns):\n",
            " #   Column   Non-Null Count  Dtype \n",
            "---  ------   --------------  ----- \n",
            " 0   motivos  6679 non-null   object\n",
            " 1   crec     6679 non-null   int64 \n",
            " 2   cred     6679 non-null   int64 \n",
            " 3   equ      6679 non-null   int64 \n",
            " 4   inic     6679 non-null   int64 \n",
            " 5   inv      6679 non-null   int64 \n",
            " 6   mkt      6679 non-null   int64 \n",
            " 7   no       6679 non-null   int64 \n",
            " 8   renta    6679 non-null   int64 \n",
            " 9   sueldo   6679 non-null   int64 \n",
            " 10  temp     6679 non-null   int64 \n",
            "dtypes: int64(10), object(1)\n",
            "memory usage: 574.1+ KB\n"
          ],
          "name": "stdout"
        }
      ]
    },
    {
      "cell_type": "code",
      "metadata": {
        "colab": {
          "base_uri": "https://localhost:8080/",
          "height": 206
        },
        "id": "TsW6-1IIHzC6",
        "outputId": "f5cd0ab7-cf70-41f6-8552-a1d93fe79651"
      },
      "source": [
        "df['category'] = df.drop(['motivos'], axis=1).idxmax(axis=1)\n",
        "df['category_id'] = df['category'].factorize()[0]\n",
        "df.head()"
      ],
      "execution_count": 5,
      "outputs": [
        {
          "output_type": "execute_result",
          "data": {
            "text/html": [
              "<div>\n",
              "<style scoped>\n",
              "    .dataframe tbody tr th:only-of-type {\n",
              "        vertical-align: middle;\n",
              "    }\n",
              "\n",
              "    .dataframe tbody tr th {\n",
              "        vertical-align: top;\n",
              "    }\n",
              "\n",
              "    .dataframe thead th {\n",
              "        text-align: right;\n",
              "    }\n",
              "</style>\n",
              "<table border=\"1\" class=\"dataframe\">\n",
              "  <thead>\n",
              "    <tr style=\"text-align: right;\">\n",
              "      <th></th>\n",
              "      <th>motivos</th>\n",
              "      <th>crec</th>\n",
              "      <th>cred</th>\n",
              "      <th>equ</th>\n",
              "      <th>inic</th>\n",
              "      <th>inv</th>\n",
              "      <th>mkt</th>\n",
              "      <th>no</th>\n",
              "      <th>renta</th>\n",
              "      <th>sueldo</th>\n",
              "      <th>temp</th>\n",
              "      <th>category</th>\n",
              "      <th>category_id</th>\n",
              "    </tr>\n",
              "  </thead>\n",
              "  <tbody>\n",
              "    <tr>\n",
              "      <th>0</th>\n",
              "      <td>Crear un departamento de ventas e inversión a ...</td>\n",
              "      <td>0</td>\n",
              "      <td>0</td>\n",
              "      <td>0</td>\n",
              "      <td>0</td>\n",
              "      <td>0</td>\n",
              "      <td>1</td>\n",
              "      <td>0</td>\n",
              "      <td>0</td>\n",
              "      <td>0</td>\n",
              "      <td>0</td>\n",
              "      <td>mkt</td>\n",
              "      <td>0</td>\n",
              "    </tr>\n",
              "    <tr>\n",
              "      <th>1</th>\n",
              "      <td>establecerme en un local y agregar materia pri...</td>\n",
              "      <td>0</td>\n",
              "      <td>0</td>\n",
              "      <td>0</td>\n",
              "      <td>0</td>\n",
              "      <td>1</td>\n",
              "      <td>0</td>\n",
              "      <td>0</td>\n",
              "      <td>1</td>\n",
              "      <td>0</td>\n",
              "      <td>0</td>\n",
              "      <td>inv</td>\n",
              "      <td>1</td>\n",
              "    </tr>\n",
              "    <tr>\n",
              "      <th>2</th>\n",
              "      <td>Compra de equipo e incrementar inventario</td>\n",
              "      <td>0</td>\n",
              "      <td>0</td>\n",
              "      <td>1</td>\n",
              "      <td>0</td>\n",
              "      <td>1</td>\n",
              "      <td>0</td>\n",
              "      <td>0</td>\n",
              "      <td>0</td>\n",
              "      <td>0</td>\n",
              "      <td>0</td>\n",
              "      <td>equ</td>\n",
              "      <td>2</td>\n",
              "    </tr>\n",
              "    <tr>\n",
              "      <th>3</th>\n",
              "      <td>Invertir en crecimiento de flotilla de unidade...</td>\n",
              "      <td>0</td>\n",
              "      <td>0</td>\n",
              "      <td>1</td>\n",
              "      <td>0</td>\n",
              "      <td>0</td>\n",
              "      <td>0</td>\n",
              "      <td>0</td>\n",
              "      <td>0</td>\n",
              "      <td>0</td>\n",
              "      <td>0</td>\n",
              "      <td>equ</td>\n",
              "      <td>2</td>\n",
              "    </tr>\n",
              "    <tr>\n",
              "      <th>4</th>\n",
              "      <td>Para comprar mercancía y comprar lonas nuevas</td>\n",
              "      <td>0</td>\n",
              "      <td>0</td>\n",
              "      <td>0</td>\n",
              "      <td>0</td>\n",
              "      <td>1</td>\n",
              "      <td>0</td>\n",
              "      <td>0</td>\n",
              "      <td>0</td>\n",
              "      <td>0</td>\n",
              "      <td>0</td>\n",
              "      <td>inv</td>\n",
              "      <td>1</td>\n",
              "    </tr>\n",
              "  </tbody>\n",
              "</table>\n",
              "</div>"
            ],
            "text/plain": [
              "                                             motivos  ...  category_id\n",
              "0  Crear un departamento de ventas e inversión a ...  ...            0\n",
              "1  establecerme en un local y agregar materia pri...  ...            1\n",
              "2          Compra de equipo e incrementar inventario  ...            2\n",
              "3  Invertir en crecimiento de flotilla de unidade...  ...            2\n",
              "4      Para comprar mercancía y comprar lonas nuevas  ...            1\n",
              "\n",
              "[5 rows x 13 columns]"
            ]
          },
          "metadata": {
            "tags": []
          },
          "execution_count": 5
        }
      ]
    },
    {
      "cell_type": "code",
      "metadata": {
        "colab": {
          "base_uri": "https://localhost:8080/"
        },
        "id": "lC6DZJbhISqp",
        "outputId": "8c18fbca-2b4b-45cb-ed1b-6379ae268490"
      },
      "source": [
        "df.category.value_counts()"
      ],
      "execution_count": 6,
      "outputs": [
        {
          "output_type": "execute_result",
          "data": {
            "text/plain": [
              "inv       2048\n",
              "equ       1910\n",
              "crec       601\n",
              "renta      453\n",
              "no         440\n",
              "cred       422\n",
              "inic       372\n",
              "mkt        212\n",
              "temp       142\n",
              "sueldo      79\n",
              "Name: category, dtype: int64"
            ]
          },
          "metadata": {
            "tags": []
          },
          "execution_count": 6
        }
      ]
    },
    {
      "cell_type": "code",
      "metadata": {
        "colab": {
          "base_uri": "https://localhost:8080/",
          "height": 397
        },
        "id": "ZfM5N6NqIUXz",
        "outputId": "6815b04b-464c-45bd-a936-bdc6397af885"
      },
      "source": [
        "plt.figure(figsize=(8, 6))\n",
        "df['category'].value_counts().sort_values(ascending=False).plot(kind='bar')\n",
        "plt.ylabel('Frequency')\n",
        "plt.show()"
      ],
      "execution_count": 7,
      "outputs": [
        {
          "output_type": "display_data",
          "data": {
            "image/png": "[encoded data removed]",
            "text/plain": [
              "<Figure size 576x432 with 1 Axes>"
            ]
          },
          "metadata": {
            "tags": [],
            "needs_background": "light"
          }
        }
      ]
    },
    {
      "cell_type": "markdown",
      "metadata": {
        "id": "0Q2mJXOjNpxK"
      },
      "source": [
        "## Text Pre-processing\n",
        "\n",
        "- Convert all text to lower case.\n",
        "- Replace REPLACE_BY_SPACE_RE symbols by space in text.\n",
        "- Remove symbols that are in BAD_SYMBOLS_RE from text.\n",
        "- Remove “x” in text.\n",
        "- Remove stop words.\n",
        "- Remove digits in text."
      ]
    },
    {
      "cell_type": "code",
      "metadata": {
        "id": "rnivJCNxIWsu"
      },
      "source": [
        "def print_plot(index):\n",
        "    example = df[df.index == index][['motivos', 'category']].values[0]\n",
        "    if len(example) > 0:\n",
        "        print(example[0])\n",
        "        print('category:', example[1])"
      ],
      "execution_count": 11,
      "outputs": []
    },
    {
      "cell_type": "code",
      "metadata": {
        "colab": {
          "base_uri": "https://localhost:8080/"
        },
        "id": "uE2coGhoNuxs",
        "outputId": "c814a6d7-5fe5-4e29-ed1a-ad216132a5ac"
      },
      "source": [
        "print_plot(10)\n",
        "print_plot(100)"
      ],
      "execution_count": 12,
      "outputs": [
        {
          "output_type": "stream",
          "text": [
            "INVENTARIO PARA VENDER MUEBLES DE OFICINA\n",
            "category: inv\n",
            "Enganche de dos autos para aumentar flotilla de carros uber\n",
            "category: equ\n"
          ],
          "name": "stdout"
        }
      ]
    },
    {
      "cell_type": "code",
      "metadata": {
        "colab": {
          "base_uri": "https://localhost:8080/"
        },
        "id": "sdNpEMu0IZEN",
        "outputId": "4444c3c8-aae0-48e9-f692-8c172bbf0004"
      },
      "source": [
        "import nltk\n",
        "nltk.download('stopwords')\n",
        "\n",
        "from nltk.corpus import stopwords\n",
        "import re\n",
        "\n",
        "df = df.reset_index(drop=True)\n",
        "\n",
        "REPLACE_BY_SPACE_RE = re.compile('[/(){}\\[\\]\\|@,;]')\n",
        "BAD_SYMBOLS_RE = re.compile('[^0-9a-z #+_]')\n",
        "STOPWORDS = set(stopwords.words('spanish'))\n",
        "\n",
        "def clean_text(text):\n",
        "    \"\"\"\n",
        "        text: a string\n",
        "        \n",
        "        return: modified initial string\n",
        "    \"\"\"\n",
        "    text = text.lower() # lowercase text\n",
        "    text = REPLACE_BY_SPACE_RE.sub(' ', text) # replace REPLACE_BY_SPACE_RE symbols by space in text. substitute the matched string in REPLACE_BY_SPACE_RE with space.\n",
        "    text = BAD_SYMBOLS_RE.sub('', text) # remove symbols which are in BAD_SYMBOLS_RE from text. substitute the matched string in BAD_SYMBOLS_RE with nothing. \n",
        "    text = text.replace('x', '')\n",
        "#    text = re.sub(r'\\W+', '', text)\n",
        "    text = ' '.join(word for word in text.split() if word not in STOPWORDS) # remove stopwors from text\n",
        "    return text\n",
        "df['motivos'] = df['motivos'].apply(clean_text)\n",
        "df['motivos'] = df['motivos'].str.replace('\\d+', '')"
      ],
      "execution_count": 13,
      "outputs": [
        {
          "output_type": "stream",
          "text": [
            "[nltk_data] Downloading package stopwords to /root/nltk_data...\n",
            "[nltk_data]   Package stopwords is already up-to-date!\n"
          ],
          "name": "stdout"
        }
      ]
    },
    {
      "cell_type": "code",
      "metadata": {
        "colab": {
          "base_uri": "https://localhost:8080/"
        },
        "id": "RxoCgJalN4UE",
        "outputId": "e98336ec-0127-494c-ff57-fb977cff33f1"
      },
      "source": [
        "print_plot(10)\n",
        "print_plot(100)\n",
        "print_plot(9)\n",
        "print_plot(7)"
      ],
      "execution_count": 14,
      "outputs": [
        {
          "output_type": "stream",
          "text": [
            "inventario vender muebles oficina\n",
            "category: inv\n",
            "enganche dos autos aumentar flotilla carros uber\n",
            "category: equ\n",
            "crdito quiero adaptar local propiedad venta formal comida\n",
            "category: inic\n",
            "ampliaciin negocio rentar mashabitaciones\n",
            "category: crec\n"
          ],
          "name": "stdout"
        }
      ]
    },
    {
      "cell_type": "markdown",
      "metadata": {
        "id": "MUSx6FR1N_Br"
      },
      "source": [
        "## LSTM Modeling"
      ]
    },
    {
      "cell_type": "code",
      "metadata": {
        "colab": {
          "base_uri": "https://localhost:8080/"
        },
        "id": "Bj2IF8P5Ibx_",
        "outputId": "bbee6502-0c0c-4c69-ffc7-41cec54ed15e"
      },
      "source": [
        "from keras.preprocessing.text import Tokenizer\n",
        "\n",
        "# The maximum number of words to be used. (most frequent)\n",
        "MAX_NB_WORDS = 50000\n",
        "# Max number of words\n",
        "MAX_SEQUENCE_LENGTH = 250\n",
        "# This is fixed.\n",
        "EMBEDDING_DIM = 100\n",
        "\n",
        "tokenizer = Tokenizer(num_words=MAX_NB_WORDS, filters='!\"#$%&()*+,-./:;<=>?@[\\]^_`{|}~', lower=True)\n",
        "tokenizer.fit_on_texts(df['motivos'].values)\n",
        "word_index = tokenizer.word_index\n",
        "print('Found %s unique tokens.' % len(word_index))"
      ],
      "execution_count": 15,
      "outputs": [
        {
          "output_type": "stream",
          "text": [
            "Found 7993 unique tokens.\n"
          ],
          "name": "stdout"
        }
      ]
    },
    {
      "cell_type": "markdown",
      "metadata": {
        "id": "GG1U5GuX1d7D"
      },
      "source": [
        "Truncate and pad the input sequences so that they are all in the same length for modeling:"
      ]
    },
    {
      "cell_type": "code",
      "metadata": {
        "colab": {
          "base_uri": "https://localhost:8080/"
        },
        "id": "fm3Y7tPkIkRI",
        "outputId": "8a79783d-8185-42c4-8e84-8aa803ad501a"
      },
      "source": [
        "from keras.preprocessing.sequence import pad_sequences\n",
        "\n",
        "X = tokenizer.texts_to_sequences(df['motivos'].values)\n",
        "X = pad_sequences(X, maxlen=MAX_SEQUENCE_LENGTH)\n",
        "\n",
        "print('Shape of data tensor:', X.shape)"
      ],
      "execution_count": 16,
      "outputs": [
        {
          "output_type": "stream",
          "text": [
            "Shape of data tensor: (6679, 250)\n"
          ],
          "name": "stdout"
        }
      ]
    },
    {
      "cell_type": "markdown",
      "metadata": {
        "id": "GTWVkVNUOHfV"
      },
      "source": [
        "### Converting categorical labels to numbers"
      ]
    },
    {
      "cell_type": "code",
      "metadata": {
        "colab": {
          "base_uri": "https://localhost:8080/",
          "height": 206
        },
        "id": "TIY7SkUIS5V-",
        "outputId": "3475256e-338a-4155-fcbb-71b55ffbae3b"
      },
      "source": [
        "Y = pd.get_dummies(df['category']).values\n",
        "pd.DataFrame(Y).head()"
      ],
      "execution_count": 17,
      "outputs": [
        {
          "output_type": "execute_result",
          "data": {
            "text/html": [
              "<div>\n",
              "<style scoped>\n",
              "    .dataframe tbody tr th:only-of-type {\n",
              "        vertical-align: middle;\n",
              "    }\n",
              "\n",
              "    .dataframe tbody tr th {\n",
              "        vertical-align: top;\n",
              "    }\n",
              "\n",
              "    .dataframe thead th {\n",
              "        text-align: right;\n",
              "    }\n",
              "</style>\n",
              "<table border=\"1\" class=\"dataframe\">\n",
              "  <thead>\n",
              "    <tr style=\"text-align: right;\">\n",
              "      <th></th>\n",
              "      <th>0</th>\n",
              "      <th>1</th>\n",
              "      <th>2</th>\n",
              "      <th>3</th>\n",
              "      <th>4</th>\n",
              "      <th>5</th>\n",
              "      <th>6</th>\n",
              "      <th>7</th>\n",
              "      <th>8</th>\n",
              "      <th>9</th>\n",
              "    </tr>\n",
              "  </thead>\n",
              "  <tbody>\n",
              "    <tr>\n",
              "      <th>0</th>\n",
              "      <td>0</td>\n",
              "      <td>0</td>\n",
              "      <td>0</td>\n",
              "      <td>0</td>\n",
              "      <td>0</td>\n",
              "      <td>1</td>\n",
              "      <td>0</td>\n",
              "      <td>0</td>\n",
              "      <td>0</td>\n",
              "      <td>0</td>\n",
              "    </tr>\n",
              "    <tr>\n",
              "      <th>1</th>\n",
              "      <td>0</td>\n",
              "      <td>0</td>\n",
              "      <td>0</td>\n",
              "      <td>0</td>\n",
              "      <td>1</td>\n",
              "      <td>0</td>\n",
              "      <td>0</td>\n",
              "      <td>0</td>\n",
              "      <td>0</td>\n",
              "      <td>0</td>\n",
              "    </tr>\n",
              "    <tr>\n",
              "      <th>2</th>\n",
              "      <td>0</td>\n",
              "      <td>0</td>\n",
              "      <td>1</td>\n",
              "      <td>0</td>\n",
              "      <td>0</td>\n",
              "      <td>0</td>\n",
              "      <td>0</td>\n",
              "      <td>0</td>\n",
              "      <td>0</td>\n",
              "      <td>0</td>\n",
              "    </tr>\n",
              "    <tr>\n",
              "      <th>3</th>\n",
              "      <td>0</td>\n",
              "      <td>0</td>\n",
              "      <td>1</td>\n",
              "      <td>0</td>\n",
              "      <td>0</td>\n",
              "      <td>0</td>\n",
              "      <td>0</td>\n",
              "      <td>0</td>\n",
              "      <td>0</td>\n",
              "      <td>0</td>\n",
              "    </tr>\n",
              "    <tr>\n",
              "      <th>4</th>\n",
              "      <td>0</td>\n",
              "      <td>0</td>\n",
              "      <td>0</td>\n",
              "      <td>0</td>\n",
              "      <td>1</td>\n",
              "      <td>0</td>\n",
              "      <td>0</td>\n",
              "      <td>0</td>\n",
              "      <td>0</td>\n",
              "      <td>0</td>\n",
              "    </tr>\n",
              "  </tbody>\n",
              "</table>\n",
              "</div>"
            ],
            "text/plain": [
              "   0  1  2  3  4  5  6  7  8  9\n",
              "0  0  0  0  0  0  1  0  0  0  0\n",
              "1  0  0  0  0  1  0  0  0  0  0\n",
              "2  0  0  1  0  0  0  0  0  0  0\n",
              "3  0  0  1  0  0  0  0  0  0  0\n",
              "4  0  0  0  0  1  0  0  0  0  0"
            ]
          },
          "metadata": {
            "tags": []
          },
          "execution_count": 17
        }
      ]
    },
    {
      "cell_type": "code",
      "metadata": {
        "id": "TuQcouWZIqtF"
      },
      "source": [
        "# # Y = pd.get_dummies(df['Product']).values\n",
        "\n",
        "# Y = df.drop(['motivos', 'category', 'category_id'], axis=1)\n",
        "# print('Shape of label tensor:', Y.shape)\n",
        "# Y.head()"
      ],
      "execution_count": 18,
      "outputs": []
    },
    {
      "cell_type": "code",
      "metadata": {
        "colab": {
          "base_uri": "https://localhost:8080/"
        },
        "id": "tpbWyeAeIs8l",
        "outputId": "8333bb8c-f764-4a55-eb56-bf2f9a7f4fb0"
      },
      "source": [
        "from sklearn.model_selection import train_test_split\n",
        "\n",
        "X_train, X_test, Y_train, Y_test = train_test_split(X,Y, test_size = 0.10, random_state = 42, stratify=Y)\n",
        "\n",
        "print(X_train.shape,Y_train.shape)\n",
        "print(X_test.shape,Y_test.shape)"
      ],
      "execution_count": 22,
      "outputs": [
        {
          "output_type": "stream",
          "text": [
            "(6011, 250) (6011, 10)\n",
            "(668, 250) (668, 10)\n"
          ],
          "name": "stdout"
        }
      ]
    },
    {
      "cell_type": "markdown",
      "metadata": {
        "id": "6aB2mZgrOMV6"
      },
      "source": [
        "- The first layer is the embedding layer that uses 100 length vectors to represent each word.\n",
        "- SpatialDropout1D performs variational dropout in NLP models.\n",
        "- The next layer is the LSTM layer with 100 memory units.\n",
        "- The output layer must create 10 output values, one for each class.\n",
        "- Activation function is softmax for multi-class classification.\n",
        "- Because it is a multi-class classification problem, categorical_crossentropy is used as the loss function."
      ]
    },
    {
      "cell_type": "code",
      "metadata": {
        "colab": {
          "base_uri": "https://localhost:8080/"
        },
        "id": "5eJ73URwIxLx",
        "outputId": "f2284c6c-8755-41a0-88e7-ce489a39440b"
      },
      "source": [
        "from keras.models import Sequential\n",
        "from keras.layers import Dense, LSTM, Embedding, SpatialDropout1D\n",
        "from tensorflow.keras.callbacks import ModelCheckpoint, EarlyStopping, ReduceLROnPlateau, CSVLogger\n",
        "from keras.metrics import Precision, Recall\n",
        "\n",
        "model_check = ModelCheckpoint('drive/MyDrive/Multiclass Text Classification/best_model.h5', monitor='val_accuracy', verbose=0, save_best_only=True, mode='max')\n",
        "early = EarlyStopping(monitor='val_accuracy', min_delta=0, patience=5, verbose=0, mode='max', restore_best_weights=True)\n",
        "reduce_lr = ReduceLROnPlateau(monitor='val_loss', factor=0.2, patience=5, min_lr=0.001)\n",
        "csv_logger = CSVLogger('drive/MyDrive/Multiclass Text Classification/train_log.csv', separator=',')\n",
        "\n",
        "model = Sequential()\n",
        "model.add(Embedding(MAX_NB_WORDS, EMBEDDING_DIM, input_length=X.shape[1]))\n",
        "model.add(SpatialDropout1D(0.2))\n",
        "model.add(LSTM(100, dropout=0.2, recurrent_dropout=0.2))\n",
        "model.add(Dense(10, activation='softmax'))\n",
        "# model.compile(loss='categorical_crossentropy', optimizer='adam', metrics=['accuracy'])\n",
        "model.compile(loss='categorical_crossentropy', optimizer='adam', metrics=['accuracy', Precision(), Recall()])\n",
        "\n",
        "epochs = 50\n",
        "batch_size = 64\n",
        "# batch_size = 32\n",
        "\n",
        "# history = model.fit(X_train, Y_train, epochs=epochs, batch_size=batch_size,validation_split=0.1,callbacks=[EarlyStopping(monitor='val_loss', patience=3, min_delta=0.0001)])\n",
        "history = model.fit(X_train, Y_train, epochs=epochs, batch_size=batch_size,validation_split=0.1,callbacks=[model_check, early, reduce_lr, csv_logger])"
      ],
      "execution_count": 23,
      "outputs": [
        {
          "output_type": "stream",
          "text": [
            "Epoch 1/50\n",
            "85/85 [==============================] - 99s 787ms/step - loss: 1.9956 - accuracy: 0.3156 - precision: 0.1062 - recall: 1.4312e-04 - val_loss: 1.8690 - val_accuracy: 0.3472 - val_precision: 0.7400 - val_recall: 0.1229\n",
            "Epoch 2/50\n",
            "85/85 [==============================] - 66s 776ms/step - loss: 1.5096 - accuracy: 0.5040 - precision: 0.8110 - recall: 0.2633 - val_loss: 1.3976 - val_accuracy: 0.5698 - val_precision: 0.8415 - val_recall: 0.3439\n",
            "Epoch 3/50\n",
            "85/85 [==============================] - 65s 767ms/step - loss: 1.0393 - accuracy: 0.6723 - precision: 0.8756 - recall: 0.5043 - val_loss: 1.2224 - val_accuracy: 0.6329 - val_precision: 0.7930 - val_recall: 0.4900\n",
            "Epoch 4/50\n",
            "85/85 [==============================] - 65s 768ms/step - loss: 0.7571 - accuracy: 0.7746 - precision: 0.8930 - recall: 0.6284 - val_loss: 1.1647 - val_accuracy: 0.6462 - val_precision: 0.7384 - val_recall: 0.5532\n",
            "Epoch 5/50\n",
            "85/85 [==============================] - 65s 765ms/step - loss: 0.5086 - accuracy: 0.8410 - precision: 0.9123 - recall: 0.7729 - val_loss: 1.1697 - val_accuracy: 0.6744 - val_precision: 0.7231 - val_recall: 0.5814\n",
            "Epoch 6/50\n",
            "85/85 [==============================] - 65s 766ms/step - loss: 0.3727 - accuracy: 0.8904 - precision: 0.9322 - recall: 0.8536 - val_loss: 1.2250 - val_accuracy: 0.6794 - val_precision: 0.7273 - val_recall: 0.6246\n",
            "Epoch 7/50\n",
            "85/85 [==============================] - 65s 764ms/step - loss: 0.2879 - accuracy: 0.9119 - precision: 0.9455 - recall: 0.8847 - val_loss: 1.2993 - val_accuracy: 0.6595 - val_precision: 0.7124 - val_recall: 0.6130\n",
            "Epoch 8/50\n",
            "85/85 [==============================] - 65s 760ms/step - loss: 0.2445 - accuracy: 0.9251 - precision: 0.9545 - recall: 0.9078 - val_loss: 1.3123 - val_accuracy: 0.6495 - val_precision: 0.6966 - val_recall: 0.6179\n",
            "Epoch 9/50\n",
            "85/85 [==============================] - 64s 754ms/step - loss: 0.1822 - accuracy: 0.9467 - precision: 0.9600 - recall: 0.9325 - val_loss: 1.3491 - val_accuracy: 0.6678 - val_precision: 0.7092 - val_recall: 0.6279\n",
            "Epoch 10/50\n",
            "85/85 [==============================] - 64s 750ms/step - loss: 0.1574 - accuracy: 0.9556 - precision: 0.9660 - recall: 0.9425 - val_loss: 1.4164 - val_accuracy: 0.6611 - val_precision: 0.6902 - val_recall: 0.6179\n",
            "Epoch 11/50\n",
            "85/85 [==============================] - 64s 754ms/step - loss: 0.1496 - accuracy: 0.9544 - precision: 0.9641 - recall: 0.9447 - val_loss: 1.4844 - val_accuracy: 0.6661 - val_precision: 0.6930 - val_recall: 0.6412\n"
          ],
          "name": "stdout"
        }
      ]
    },
    {
      "cell_type": "code",
      "metadata": {
        "id": "IcY68z_LIzFX"
      },
      "source": [
        "accr = model.evaluate(X_test,Y_test)"
      ],
      "execution_count": 30,
      "outputs": []
    },
    {
      "cell_type": "code",
      "metadata": {
        "colab": {
          "base_uri": "https://localhost:8080/"
        },
        "id": "mATKQFsszN5G",
        "outputId": "25c54b1e-9898-4ab0-ce46-8544646b0c57"
      },
      "source": [
        "# print('Test set\\n  Loss: {:0.3f}\\n  Accuracy: {:0.3f}'.format(accr[0],accr[1]))\n",
        "\n",
        "print(model.metrics_names)\n",
        "print(accr)"
      ],
      "execution_count": 29,
      "outputs": [
        {
          "output_type": "stream",
          "text": [
            "['loss', 'accuracy', 'precision', 'recall']\n",
            "[1.113991618156433, 0.6796407103538513, 0.734133780002594, 0.6407185792922974]\n"
          ],
          "name": "stdout"
        }
      ]
    },
    {
      "cell_type": "code",
      "metadata": {
        "colab": {
          "base_uri": "https://localhost:8080/",
          "height": 388
        },
        "id": "ZT0ENOpmL73C",
        "outputId": "d6f7dcd3-c739-4267-c4ac-20efbd6409bf"
      },
      "source": [
        "plt.figure(figsize=(10, 6))\n",
        "plt.plot(history.history['loss'], label='train')\n",
        "plt.plot(history.history['val_loss'], label='test')\n",
        "plt.xlabel('Number of epochs')\n",
        "plt.ylabel('Loss')\n",
        "plt.legend()\n",
        "plt.show();"
      ],
      "execution_count": 25,
      "outputs": [
        {
          "output_type": "display_data",
          "data": {
            "image/png": "[encoded data removed]",
            "text/plain": [
              "<Figure size 720x432 with 1 Axes>"
            ]
          },
          "metadata": {
            "tags": [],
            "needs_background": "light"
          }
        }
      ]
    },
    {
      "cell_type": "code",
      "metadata": {
        "colab": {
          "base_uri": "https://localhost:8080/",
          "height": 388
        },
        "id": "aU0nNw8LMBrj",
        "outputId": "a13ac977-5a6b-48c4-feb6-e8c3886d00f2"
      },
      "source": [
        "plt.figure(figsize=(10, 6))\n",
        "plt.plot(history.history['accuracy'], label='train')\n",
        "plt.plot(history.history['val_accuracy'], label='test')\n",
        "plt.xlabel('Number of epochs')\n",
        "plt.ylabel('Accuracy')\n",
        "plt.legend()\n",
        "plt.show();"
      ],
      "execution_count": 26,
      "outputs": [
        {
          "output_type": "display_data",
          "data": {
            "image/png": "[encoded data removed]",
            "text/plain": [
              "<Figure size 720x432 with 1 Axes>"
            ]
          },
          "metadata": {
            "tags": [],
            "needs_background": "light"
          }
        }
      ]
    },
    {
      "cell_type": "code",
      "metadata": {
        "colab": {
          "base_uri": "https://localhost:8080/",
          "height": 388
        },
        "id": "58wSEx4an424",
        "outputId": "9fc0009b-10be-4495-b1e7-33e615f277d7"
      },
      "source": [
        "q = len(list(history.history['loss']))\n",
        "plt.figure(figsize=(10, 6))\n",
        "sns.lineplot(x = range(1, 1+q), y = history.history['accuracy'], label = 'Accuracy')\n",
        "sns.lineplot(x = range(1, 1+q), y = history.history['loss'], label = 'Loss')\n",
        "plt.xlabel('Number of epochs')\n",
        "plt.ylabel('Training')\n",
        "plt.legend();"
      ],
      "execution_count": 27,
      "outputs": [
        {
          "output_type": "display_data",
          "data": {
            "image/png": "[encoded data removed]",
            "text/plain": [
              "<Figure size 720x432 with 1 Axes>"
            ]
          },
          "metadata": {
            "tags": [],
            "needs_background": "light"
          }
        }
      ]
    },
    {
      "cell_type": "code",
      "metadata": {
        "colab": {
          "base_uri": "https://localhost:8080/"
        },
        "id": "eKv6kMchzZiY",
        "outputId": "3571ad45-947a-44b4-c8f5-29c1b5ae6401"
      },
      "source": [
        "print(history.history.keys())"
      ],
      "execution_count": 32,
      "outputs": [
        {
          "output_type": "stream",
          "text": [
            "dict_keys(['loss', 'accuracy', 'precision', 'recall', 'val_loss', 'val_accuracy', 'val_precision', 'val_recall', 'lr'])\n"
          ],
          "name": "stdout"
        }
      ]
    },
    {
      "cell_type": "code",
      "metadata": {
        "colab": {
          "base_uri": "https://localhost:8080/",
          "height": 388
        },
        "id": "7DKYHLLe0u9U",
        "outputId": "ec0da805-524f-4807-b32e-34e14e088e2e"
      },
      "source": [
        "plt.figure(figsize=(10, 6))\n",
        "plt.plot(history.history['precision'], label='train')\n",
        "plt.plot(history.history['val_precision'], label='test')\n",
        "plt.xlabel('Number of epochs')\n",
        "plt.ylabel('Precision')\n",
        "plt.legend()\n",
        "plt.show();"
      ],
      "execution_count": 33,
      "outputs": [
        {
          "output_type": "display_data",
          "data": {
            "image/png": "[encoded data removed]",
            "text/plain": [
              "<Figure size 720x432 with 1 Axes>"
            ]
          },
          "metadata": {
            "tags": [],
            "needs_background": "light"
          }
        }
      ]
    },
    {
      "cell_type": "code",
      "metadata": {
        "colab": {
          "base_uri": "https://localhost:8080/",
          "height": 388
        },
        "id": "rzM1LZ4s0zGS",
        "outputId": "fd34e8cd-6b73-4061-9859-93cc3d907d4d"
      },
      "source": [
        "plt.figure(figsize=(10, 6))\n",
        "plt.plot(history.history['recall'], label='train')\n",
        "plt.plot(history.history['val_recall'], label='test')\n",
        "plt.xlabel('Number of epochs')\n",
        "plt.ylabel('Recall')\n",
        "plt.legend()\n",
        "plt.show();"
      ],
      "execution_count": 34,
      "outputs": [
        {
          "output_type": "display_data",
          "data": {
            "image/png": "[encoded data removed]",
            "text/plain": [
              "<Figure size 720x432 with 1 Axes>"
            ]
          },
          "metadata": {
            "tags": [],
            "needs_background": "light"
          }
        }
      ]
    },
    {
      "cell_type": "code",
      "metadata": {
        "id": "rEro2u0KhvFI"
      },
      "source": [
        "# Saving the model\n",
        "model.save('drive/MyDrive/Multiclass Text Classification/LSTM_4.h5')"
      ],
      "execution_count": 28,
      "outputs": []
    },
    {
      "cell_type": "code",
      "metadata": {
        "id": "dHO8Bxf5DvQe"
      },
      "source": [
        ""
      ],
      "execution_count": null,
      "outputs": []
    }
  ]
}