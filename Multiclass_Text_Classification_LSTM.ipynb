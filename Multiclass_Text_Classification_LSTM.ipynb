{
  "nbformat": 4,
  "nbformat_minor": 0,
  "metadata": {
    "colab": {
      "name": "Multiclass Text Classification - LSTM.ipynb",
      "provenance": [],
      "collapsed_sections": []
    },
    "kernelspec": {
      "name": "python3",
      "display_name": "Python 3"
    },
    "language_info": {
      "name": "python"
    },
    "accelerator": "TPU"
  },
  "cells": [
    {
      "cell_type": "markdown",
      "metadata": {
        "id": "UrMUfP6BL16W"
      },
      "source": [
        "# Multiclass Text Classification using LSTM architecture\n",
        "(Runs best on a TPU)"
      ]
    },
    {
      "cell_type": "code",
      "metadata": {
        "id": "CEoxHe_-G9iV"
      },
      "source": [
        "import numpy as np\n",
        "import pandas as pd\n",
        "import matplotlib.pyplot as plt\n",
        "import seaborn as sns\n",
        "%matplotlib inline"
      ],
      "execution_count": 1,
      "outputs": []
    },
    {
      "cell_type": "code",
      "metadata": {
        "colab": {
          "base_uri": "https://localhost:8080/"
        },
        "id": "K__63-sZHxF4",
        "outputId": "488011c7-1a89-4b4e-d578-b811879dc5ac"
      },
      "source": [
        "df = pd.read_csv('drive/MyDrive/Multiclass Text Classification/intent.csv')\n",
        "df.info()"
      ],
      "execution_count": 2,
      "outputs": [
        {
          "output_type": "stream",
          "text": [
            "<class 'pandas.core.frame.DataFrame'>\n",
            "RangeIndex: 6679 entries, 0 to 6678\n",
            "Data columns (total 11 columns):\n",
            " #   Column   Non-Null Count  Dtype  \n",
            "---  ------   --------------  -----  \n",
            " 0   motivos  6679 non-null   object \n",
            " 1   crec     6679 non-null   int64  \n",
            " 2   cred     6679 non-null   int64  \n",
            " 3   equ      6679 non-null   int64  \n",
            " 4   inic     6679 non-null   int64  \n",
            " 5   inv      6679 non-null   int64  \n",
            " 6   mkt      6679 non-null   int64  \n",
            " 7   no       6679 non-null   int64  \n",
            " 8   renta    6679 non-null   int64  \n",
            " 9   sueldo   6679 non-null   int64  \n",
            " 10  temp     6673 non-null   float64\n",
            "dtypes: float64(1), int64(9), object(1)\n",
            "memory usage: 574.1+ KB\n"
          ],
          "name": "stdout"
        }
      ]
    },
    {
      "cell_type": "code",
      "metadata": {
        "colab": {
          "base_uri": "https://localhost:8080/",
          "height": 293
        },
        "id": "TsW6-1IIHzC6",
        "outputId": "b7bd9815-caae-44eb-eafb-f3706961a169"
      },
      "source": [
        "df['category'] = df.drop(['motivos'], axis=1).idxmax(axis=1)\n",
        "df['category_id'] = df['category'].factorize()[0]\n",
        "df.head()"
      ],
      "execution_count": 3,
      "outputs": [
        {
          "output_type": "execute_result",
          "data": {
            "text/html": [
              "<div>\n",
              "<style scoped>\n",
              "    .dataframe tbody tr th:only-of-type {\n",
              "        vertical-align: middle;\n",
              "    }\n",
              "\n",
              "    .dataframe tbody tr th {\n",
              "        vertical-align: top;\n",
              "    }\n",
              "\n",
              "    .dataframe thead th {\n",
              "        text-align: right;\n",
              "    }\n",
              "</style>\n",
              "<table border=\"1\" class=\"dataframe\">\n",
              "  <thead>\n",
              "    <tr style=\"text-align: right;\">\n",
              "      <th></th>\n",
              "      <th>motivos</th>\n",
              "      <th>crec</th>\n",
              "      <th>cred</th>\n",
              "      <th>equ</th>\n",
              "      <th>inic</th>\n",
              "      <th>inv</th>\n",
              "      <th>mkt</th>\n",
              "      <th>no</th>\n",
              "      <th>renta</th>\n",
              "      <th>sueldo</th>\n",
              "      <th>temp</th>\n",
              "      <th>category</th>\n",
              "      <th>category_id</th>\n",
              "    </tr>\n",
              "  </thead>\n",
              "  <tbody>\n",
              "    <tr>\n",
              "      <th>0</th>\n",
              "      <td>Crear un departamento de ventas e inversión a ...</td>\n",
              "      <td>0</td>\n",
              "      <td>0</td>\n",
              "      <td>0</td>\n",
              "      <td>0</td>\n",
              "      <td>0</td>\n",
              "      <td>1</td>\n",
              "      <td>0</td>\n",
              "      <td>0</td>\n",
              "      <td>0</td>\n",
              "      <td>0.0</td>\n",
              "      <td>mkt</td>\n",
              "      <td>0</td>\n",
              "    </tr>\n",
              "    <tr>\n",
              "      <th>1</th>\n",
              "      <td>establecerme en un local y agregar materia pri...</td>\n",
              "      <td>0</td>\n",
              "      <td>0</td>\n",
              "      <td>0</td>\n",
              "      <td>0</td>\n",
              "      <td>1</td>\n",
              "      <td>0</td>\n",
              "      <td>0</td>\n",
              "      <td>1</td>\n",
              "      <td>0</td>\n",
              "      <td>0.0</td>\n",
              "      <td>inv</td>\n",
              "      <td>1</td>\n",
              "    </tr>\n",
              "    <tr>\n",
              "      <th>2</th>\n",
              "      <td>Compra de equipo e incrementar inventario</td>\n",
              "      <td>0</td>\n",
              "      <td>0</td>\n",
              "      <td>1</td>\n",
              "      <td>0</td>\n",
              "      <td>1</td>\n",
              "      <td>0</td>\n",
              "      <td>0</td>\n",
              "      <td>0</td>\n",
              "      <td>0</td>\n",
              "      <td>0.0</td>\n",
              "      <td>equ</td>\n",
              "      <td>2</td>\n",
              "    </tr>\n",
              "    <tr>\n",
              "      <th>3</th>\n",
              "      <td>Invertir en crecimiento de flotilla de unidade...</td>\n",
              "      <td>0</td>\n",
              "      <td>0</td>\n",
              "      <td>1</td>\n",
              "      <td>0</td>\n",
              "      <td>0</td>\n",
              "      <td>0</td>\n",
              "      <td>0</td>\n",
              "      <td>0</td>\n",
              "      <td>0</td>\n",
              "      <td>0.0</td>\n",
              "      <td>equ</td>\n",
              "      <td>2</td>\n",
              "    </tr>\n",
              "    <tr>\n",
              "      <th>4</th>\n",
              "      <td>Para comprar mercancía y comprar lonas nuevas</td>\n",
              "      <td>0</td>\n",
              "      <td>0</td>\n",
              "      <td>0</td>\n",
              "      <td>0</td>\n",
              "      <td>1</td>\n",
              "      <td>0</td>\n",
              "      <td>0</td>\n",
              "      <td>0</td>\n",
              "      <td>0</td>\n",
              "      <td>0.0</td>\n",
              "      <td>inv</td>\n",
              "      <td>1</td>\n",
              "    </tr>\n",
              "  </tbody>\n",
              "</table>\n",
              "</div>"
            ],
            "text/plain": [
              "                                             motivos  ...  category_id\n",
              "0  Crear un departamento de ventas e inversión a ...  ...            0\n",
              "1  establecerme en un local y agregar materia pri...  ...            1\n",
              "2          Compra de equipo e incrementar inventario  ...            2\n",
              "3  Invertir en crecimiento de flotilla de unidade...  ...            2\n",
              "4      Para comprar mercancía y comprar lonas nuevas  ...            1\n",
              "\n",
              "[5 rows x 13 columns]"
            ]
          },
          "metadata": {
            "tags": []
          },
          "execution_count": 3
        }
      ]
    },
    {
      "cell_type": "code",
      "metadata": {
        "colab": {
          "base_uri": "https://localhost:8080/"
        },
        "id": "lC6DZJbhISqp",
        "outputId": "b5c4558e-5fec-4c21-d879-136803649c8a"
      },
      "source": [
        "df.category.value_counts()"
      ],
      "execution_count": 4,
      "outputs": [
        {
          "output_type": "execute_result",
          "data": {
            "text/plain": [
              "inv       2048\n",
              "equ       1910\n",
              "crec       601\n",
              "renta      453\n",
              "no         440\n",
              "cred       422\n",
              "inic       372\n",
              "mkt        212\n",
              "temp       142\n",
              "sueldo      79\n",
              "Name: category, dtype: int64"
            ]
          },
          "metadata": {
            "tags": []
          },
          "execution_count": 4
        }
      ]
    },
    {
      "cell_type": "markdown",
      "metadata": {
        "id": "9blVFx8QNl5S"
      },
      "source": [
        "### Label Consolidation\n",
        "En este caso no hace falta"
      ]
    },
    {
      "cell_type": "code",
      "metadata": {
        "colab": {
          "base_uri": "https://localhost:8080/",
          "height": 288
        },
        "id": "ZfM5N6NqIUXz",
        "outputId": "9fb23444-347b-4b64-9ea4-38399b95b758"
      },
      "source": [
        "df['category'].value_counts().sort_values(ascending=False).plot(kind='bar')\n",
        "plt.show()"
      ],
      "execution_count": 5,
      "outputs": [
        {
          "output_type": "display_data",
          "data": {
            "image/png": "[encoded data removed]",
            "text/plain": [
              "<Figure size 432x288 with 1 Axes>"
            ]
          },
          "metadata": {
            "tags": [],
            "needs_background": "light"
          }
        }
      ]
    },
    {
      "cell_type": "markdown",
      "metadata": {
        "id": "0Q2mJXOjNpxK"
      },
      "source": [
        "## Text Pre-processing\n",
        "Our text preprocessing will include the following steps:\n",
        "\n",
        "- Convert all text to lower case.\n",
        "- Replace REPLACE_BY_SPACE_RE symbols by space in text.\n",
        "- Remove symbols that are in BAD_SYMBOLS_RE from text.\n",
        "- Remove “x” in text.\n",
        "- Remove stop words.\n",
        "- Remove digits in text."
      ]
    },
    {
      "cell_type": "code",
      "metadata": {
        "id": "rnivJCNxIWsu"
      },
      "source": [
        "def print_plot(index):\n",
        "    example = df[df.index == index][['motivos', 'category']].values[0]\n",
        "    if len(example) > 0:\n",
        "        print(example[0])\n",
        "        print('category:', example[1])"
      ],
      "execution_count": 6,
      "outputs": []
    },
    {
      "cell_type": "code",
      "metadata": {
        "colab": {
          "base_uri": "https://localhost:8080/"
        },
        "id": "uE2coGhoNuxs",
        "outputId": "6c5a71a1-119d-46de-d42b-3a5462867433"
      },
      "source": [
        "print_plot(10)\n",
        "print_plot(100)"
      ],
      "execution_count": 21,
      "outputs": [
        {
          "output_type": "stream",
          "text": [
            "inventario vender muebles oficina\n",
            "category: inv\n",
            "enganche dos autos aumentar flotilla carros uber\n",
            "category: equ\n"
          ],
          "name": "stdout"
        }
      ]
    },
    {
      "cell_type": "markdown",
      "metadata": {
        "id": "FO27znyjNzwl"
      },
      "source": [
        "A qué le llaman enganche en méjico?"
      ]
    },
    {
      "cell_type": "code",
      "metadata": {
        "colab": {
          "base_uri": "https://localhost:8080/"
        },
        "id": "sdNpEMu0IZEN",
        "outputId": "46dcc51b-4495-4044-e08f-84e612186ff6"
      },
      "source": [
        "import nltk\n",
        "nltk.download('stopwords')\n",
        "\n",
        "from nltk.corpus import stopwords\n",
        "import re\n",
        "\n",
        "df = df.reset_index(drop=True)\n",
        "\n",
        "REPLACE_BY_SPACE_RE = re.compile('[/(){}\\[\\]\\|@,;]')\n",
        "BAD_SYMBOLS_RE = re.compile('[^0-9a-z #+_]')\n",
        "STOPWORDS = set(stopwords.words('spanish'))\n",
        "\n",
        "def clean_text(text):\n",
        "    \"\"\"\n",
        "        text: a string\n",
        "        \n",
        "        return: modified initial string\n",
        "    \"\"\"\n",
        "    text = text.lower() # lowercase text\n",
        "    text = REPLACE_BY_SPACE_RE.sub(' ', text) # replace REPLACE_BY_SPACE_RE symbols by space in text. substitute the matched string in REPLACE_BY_SPACE_RE with space.\n",
        "    text = BAD_SYMBOLS_RE.sub('', text) # remove symbols which are in BAD_SYMBOLS_RE from text. substitute the matched string in BAD_SYMBOLS_RE with nothing. \n",
        "    text = text.replace('x', '')\n",
        "#    text = re.sub(r'\\W+', '', text)\n",
        "    text = ' '.join(word for word in text.split() if word not in STOPWORDS) # remove stopwors from text\n",
        "    return text\n",
        "df['motivos'] = df['motivos'].apply(clean_text)\n",
        "df['motivos'] = df['motivos'].str.replace('\\d+', '')"
      ],
      "execution_count": 7,
      "outputs": [
        {
          "output_type": "stream",
          "text": [
            "[nltk_data] Downloading package stopwords to /root/nltk_data...\n",
            "[nltk_data]   Unzipping corpora/stopwords.zip.\n"
          ],
          "name": "stdout"
        }
      ]
    },
    {
      "cell_type": "code",
      "metadata": {
        "colab": {
          "base_uri": "https://localhost:8080/"
        },
        "id": "RxoCgJalN4UE",
        "outputId": "75754c29-c48d-44fc-bd55-0e1397ee01be"
      },
      "source": [
        "print_plot(10)\n",
        "print_plot(100)"
      ],
      "execution_count": 22,
      "outputs": [
        {
          "output_type": "stream",
          "text": [
            "inventario vender muebles oficina\n",
            "category: inv\n",
            "enganche dos autos aumentar flotilla carros uber\n",
            "category: equ\n"
          ],
          "name": "stdout"
        }
      ]
    },
    {
      "cell_type": "markdown",
      "metadata": {
        "id": "MUSx6FR1N_Br"
      },
      "source": [
        "## LSTM Modeling\n",
        "- Vectorize consumer complaints text, by turning each text into either a sequence of integers or into a vector.\n",
        "- Limit the data set to the top 5,0000 words.\n",
        "- Set the max number of words in each complaint at 250.\n",
        "\n",
        "Estas cosas las tendría que **tunear**."
      ]
    },
    {
      "cell_type": "code",
      "metadata": {
        "colab": {
          "base_uri": "https://localhost:8080/"
        },
        "id": "Bj2IF8P5Ibx_",
        "outputId": "995b59f0-ca5b-4464-dd4f-c439995af83e"
      },
      "source": [
        "from keras.preprocessing.text import Tokenizer\n",
        "\n",
        "# The maximum number of words to be used. (most frequent)\n",
        "MAX_NB_WORDS = 50000\n",
        "# Max number of words in each complaint.\n",
        "MAX_SEQUENCE_LENGTH = 250\n",
        "# This is fixed.\n",
        "EMBEDDING_DIM = 100\n",
        "\n",
        "tokenizer = Tokenizer(num_words=MAX_NB_WORDS, filters='!\"#$%&()*+,-./:;<=>?@[\\]^_`{|}~', lower=True)\n",
        "tokenizer.fit_on_texts(df['motivos'].values)\n",
        "word_index = tokenizer.word_index\n",
        "print('Found %s unique tokens.' % len(word_index))"
      ],
      "execution_count": 8,
      "outputs": [
        {
          "output_type": "stream",
          "text": [
            "Found 7993 unique tokens.\n"
          ],
          "name": "stdout"
        }
      ]
    },
    {
      "cell_type": "code",
      "metadata": {
        "colab": {
          "base_uri": "https://localhost:8080/"
        },
        "id": "fm3Y7tPkIkRI",
        "outputId": "7f2cbae8-8351-4fbe-f487-196640ad5857"
      },
      "source": [
        "from keras.preprocessing.sequence import pad_sequences\n",
        "\n",
        "X = tokenizer.texts_to_sequences(df['motivos'].values)\n",
        "X = pad_sequences(X, maxlen=MAX_SEQUENCE_LENGTH)\n",
        "\n",
        "print('Shape of data tensor:', X.shape)"
      ],
      "execution_count": 9,
      "outputs": [
        {
          "output_type": "stream",
          "text": [
            "Shape of data tensor: (6679, 250)\n"
          ],
          "name": "stdout"
        }
      ]
    },
    {
      "cell_type": "markdown",
      "metadata": {
        "id": "GTWVkVNUOHfV"
      },
      "source": [
        "### Converting categorical labels to numbers - ya está\n",
        "Para la target tendría que tirar category category_id?"
      ]
    },
    {
      "cell_type": "code",
      "metadata": {
        "colab": {
          "base_uri": "https://localhost:8080/"
        },
        "id": "oiWdNrs3ImfB",
        "outputId": "854e145d-3298-47fe-a501-96765852a460"
      },
      "source": [
        "df['temp'].fillna(df['temp'].median(), inplace=True)\n",
        "df.isna().sum()"
      ],
      "execution_count": 10,
      "outputs": [
        {
          "output_type": "execute_result",
          "data": {
            "text/plain": [
              "motivos        0\n",
              "crec           0\n",
              "cred           0\n",
              "equ            0\n",
              "inic           0\n",
              "inv            0\n",
              "mkt            0\n",
              "no             0\n",
              "renta          0\n",
              "sueldo         0\n",
              "temp           0\n",
              "category       0\n",
              "category_id    0\n",
              "dtype: int64"
            ]
          },
          "metadata": {
            "tags": []
          },
          "execution_count": 10
        }
      ]
    },
    {
      "cell_type": "code",
      "metadata": {
        "colab": {
          "base_uri": "https://localhost:8080/"
        },
        "id": "RWfNzAnKIoCD",
        "outputId": "54fb858c-e78e-4415-be99-0a8f19b88b98"
      },
      "source": [
        "df = df.astype({\"temp\":'int'}) \n",
        "df.info()"
      ],
      "execution_count": 11,
      "outputs": [
        {
          "output_type": "stream",
          "text": [
            "<class 'pandas.core.frame.DataFrame'>\n",
            "RangeIndex: 6679 entries, 0 to 6678\n",
            "Data columns (total 13 columns):\n",
            " #   Column       Non-Null Count  Dtype \n",
            "---  ------       --------------  ----- \n",
            " 0   motivos      6679 non-null   object\n",
            " 1   crec         6679 non-null   int64 \n",
            " 2   cred         6679 non-null   int64 \n",
            " 3   equ          6679 non-null   int64 \n",
            " 4   inic         6679 non-null   int64 \n",
            " 5   inv          6679 non-null   int64 \n",
            " 6   mkt          6679 non-null   int64 \n",
            " 7   no           6679 non-null   int64 \n",
            " 8   renta        6679 non-null   int64 \n",
            " 9   sueldo       6679 non-null   int64 \n",
            " 10  temp         6679 non-null   int64 \n",
            " 11  category     6679 non-null   object\n",
            " 12  category_id  6679 non-null   int64 \n",
            "dtypes: int64(11), object(2)\n",
            "memory usage: 678.5+ KB\n"
          ],
          "name": "stdout"
        }
      ]
    },
    {
      "cell_type": "code",
      "metadata": {
        "colab": {
          "base_uri": "https://localhost:8080/"
        },
        "id": "TuQcouWZIqtF",
        "outputId": "471ce8d8-8ea7-4853-d110-62374b3207c7"
      },
      "source": [
        "# Y = pd.get_dummies(df['Product']).values\n",
        "\n",
        "Y = df.drop(['motivos', 'category', 'category_id'], axis=1)\n",
        "print('Shape of label tensor:', Y.shape)"
      ],
      "execution_count": 12,
      "outputs": [
        {
          "output_type": "stream",
          "text": [
            "Shape of label tensor: (6679, 10)\n"
          ],
          "name": "stdout"
        }
      ]
    },
    {
      "cell_type": "code",
      "metadata": {
        "colab": {
          "base_uri": "https://localhost:8080/"
        },
        "id": "tpbWyeAeIs8l",
        "outputId": "833f5a0f-6f0b-4897-9aff-fae8b721c3f1"
      },
      "source": [
        "from sklearn.model_selection import train_test_split\n",
        "\n",
        "X_train, X_test, Y_train, Y_test = train_test_split(X,Y, test_size = 0.10, random_state = 42)\n",
        "\n",
        "print(X_train.shape,Y_train.shape)\n",
        "print(X_test.shape,Y_test.shape)"
      ],
      "execution_count": 13,
      "outputs": [
        {
          "output_type": "stream",
          "text": [
            "(6011, 250) (6011, 10)\n",
            "(668, 250) (668, 10)\n"
          ],
          "name": "stdout"
        }
      ]
    },
    {
      "cell_type": "code",
      "metadata": {
        "colab": {
          "base_uri": "https://localhost:8080/"
        },
        "id": "wgpl9UWNIvp4",
        "outputId": "b103a210-1f0e-4bda-a664-d96c6b286081"
      },
      "source": [
        "from sklearn.model_selection import train_test_split\n",
        "\n",
        "X_train, X_test, Y_train, Y_test = train_test_split(X,Y, test_size = 0.10, random_state = 42)\n",
        "\n",
        "print(X_train.shape,Y_train.shape)\n",
        "print(X_test.shape,Y_test.shape)"
      ],
      "execution_count": 14,
      "outputs": [
        {
          "output_type": "stream",
          "text": [
            "(6011, 250) (6011, 10)\n",
            "(668, 250) (668, 10)\n"
          ],
          "name": "stdout"
        }
      ]
    },
    {
      "cell_type": "markdown",
      "metadata": {
        "id": "6aB2mZgrOMV6"
      },
      "source": [
        "- The first layer is the embedded layer that uses 100 length vectors to represent each word.\n",
        "- SpatialDropout1D performs variational dropout in NLP models.\n",
        "- The next layer is the LSTM layer with 100 memory units.\n",
        "- The output layer must create 13 output values, one for each class.\n",
        "- Activation function is softmax for multi-class classification.\n",
        "- Because it is a multi-class classification problem, categorical_crossentropy is used as the loss function."
      ]
    },
    {
      "cell_type": "code",
      "metadata": {
        "colab": {
          "base_uri": "https://localhost:8080/"
        },
        "id": "5eJ73URwIxLx",
        "outputId": "2f5ba258-c50c-417b-b555-e840d945056d"
      },
      "source": [
        "from keras.models import Sequential\n",
        "from keras.layers import Dense, LSTM, Embedding, SpatialDropout1D\n",
        "from tensorflow.keras.callbacks import EarlyStopping\n",
        "\n",
        "model = Sequential()\n",
        "model.add(Embedding(MAX_NB_WORDS, EMBEDDING_DIM, input_length=X.shape[1]))\n",
        "model.add(SpatialDropout1D(0.2))\n",
        "model.add(LSTM(100, dropout=0.2, recurrent_dropout=0.2))\n",
        "model.add(Dense(10, activation='softmax'))\n",
        "model.compile(loss='categorical_crossentropy', optimizer='adam', metrics=['accuracy'])\n",
        "\n",
        "epochs = 50\n",
        "batch_size = 64\n",
        "# batch_size = 32\n",
        "\n",
        "history = model.fit(X_train, Y_train, epochs=epochs, batch_size=batch_size,validation_split=0.1,callbacks=[EarlyStopping(monitor='val_loss', patience=3, min_delta=0.0001)])"
      ],
      "execution_count": 17,
      "outputs": [
        {
          "output_type": "stream",
          "text": [
            "Epoch 1/50\n",
            "85/85 [==============================] - 68s 747ms/step - loss: 2.3571 - accuracy: 0.2914 - val_loss: 2.1524 - val_accuracy: 0.3223\n",
            "Epoch 2/50\n",
            "85/85 [==============================] - 62s 727ms/step - loss: 2.1818 - accuracy: 0.3630 - val_loss: 1.7373 - val_accuracy: 0.5382\n",
            "Epoch 3/50\n",
            "85/85 [==============================] - 62s 725ms/step - loss: 1.6699 - accuracy: 0.5683 - val_loss: 1.5553 - val_accuracy: 0.5930\n",
            "Epoch 4/50\n",
            "85/85 [==============================] - 62s 726ms/step - loss: 1.4384 - accuracy: 0.6408 - val_loss: 1.5020 - val_accuracy: 0.6096\n",
            "Epoch 5/50\n",
            "85/85 [==============================] - 62s 724ms/step - loss: 1.2745 - accuracy: 0.7121 - val_loss: 1.4464 - val_accuracy: 0.6379\n",
            "Epoch 6/50\n",
            "85/85 [==============================] - 62s 727ms/step - loss: 1.1010 - accuracy: 0.7656 - val_loss: 1.4208 - val_accuracy: 0.6611\n",
            "Epoch 7/50\n",
            "85/85 [==============================] - 62s 725ms/step - loss: 1.0090 - accuracy: 0.7897 - val_loss: 1.4299 - val_accuracy: 0.6595\n",
            "Epoch 8/50\n",
            "85/85 [==============================] - 62s 727ms/step - loss: 0.8865 - accuracy: 0.8236 - val_loss: 1.5118 - val_accuracy: 0.6346\n",
            "Epoch 9/50\n",
            "85/85 [==============================] - 62s 727ms/step - loss: 0.9061 - accuracy: 0.8295 - val_loss: 1.5360 - val_accuracy: 0.6794\n"
          ],
          "name": "stdout"
        }
      ]
    },
    {
      "cell_type": "code",
      "metadata": {
        "colab": {
          "base_uri": "https://localhost:8080/"
        },
        "id": "IcY68z_LIzFX",
        "outputId": "7740c412-dd06-4ebd-d19b-65f655e01000"
      },
      "source": [
        "accr = model.evaluate(X_test,Y_test)\n",
        "print('Test set\\n  Loss: {:0.3f}\\n  Accuracy: {:0.3f}'.format(accr[0],accr[1]))"
      ],
      "execution_count": 18,
      "outputs": [
        {
          "output_type": "stream",
          "text": [
            "21/21 [==============================] - 1s 66ms/step - loss: 1.8133 - accuracy: 0.6228\n",
            "Test set\n",
            "  Loss: 1.813\n",
            "  Accuracy: 0.623\n"
          ],
          "name": "stdout"
        }
      ]
    },
    {
      "cell_type": "code",
      "metadata": {
        "colab": {
          "base_uri": "https://localhost:8080/",
          "height": 281
        },
        "id": "ZT0ENOpmL73C",
        "outputId": "236d087c-37b2-4694-b32b-cd1949488dfa"
      },
      "source": [
        "plt.title('Loss')\n",
        "plt.plot(history.history['loss'], label='train')\n",
        "plt.plot(history.history['val_loss'], label='test')\n",
        "plt.legend()\n",
        "plt.show();"
      ],
      "execution_count": 19,
      "outputs": [
        {
          "output_type": "display_data",
          "data": {
            "image/png": "[encoded data removed]",
            "text/plain": [
              "<Figure size 432x288 with 1 Axes>"
            ]
          },
          "metadata": {
            "tags": [],
            "needs_background": "light"
          }
        }
      ]
    },
    {
      "cell_type": "code",
      "metadata": {
        "colab": {
          "base_uri": "https://localhost:8080/",
          "height": 281
        },
        "id": "aU0nNw8LMBrj",
        "outputId": "b1ee9c2f-d140-42ee-93b1-5af04b92c4ea"
      },
      "source": [
        "plt.title('Accuracy')\n",
        "plt.plot(history.history['accuracy'], label='train')\n",
        "plt.plot(history.history['val_accuracy'], label='test')\n",
        "plt.legend()\n",
        "plt.show();"
      ],
      "execution_count": 20,
      "outputs": [
        {
          "output_type": "display_data",
          "data": {
            "image/png": "[encoded data removed]",
            "text/plain": [
              "<Figure size 432x288 with 1 Axes>"
            ]
          },
          "metadata": {
            "tags": [],
            "needs_background": "light"
          }
        }
      ]
    },
    {
      "cell_type": "markdown",
      "metadata": {
        "id": "ulj29CdnMWbR"
      },
      "source": [
        "# Qué mejorar\n",
        "- Comparar con lo que lograron ellos:\n",
        "  - Usar precision\n",
        "  - Mirar el loss score\n",
        "  - Dónde pongo el weakness score\n",
        "- Solucionar el overfitting\n",
        "- Armar un primer documento"
      ]
    },
    {
      "cell_type": "code",
      "metadata": {
        "id": "hpKxrOOlMsFG"
      },
      "source": [
        ""
      ],
      "execution_count": null,
      "outputs": []
    }
  ]
}