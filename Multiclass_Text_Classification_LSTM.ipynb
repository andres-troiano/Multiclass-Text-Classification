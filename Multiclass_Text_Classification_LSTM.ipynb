{
  "nbformat": 4,
  "nbformat_minor": 0,
  "metadata": {
    "colab": {
      "name": "Multiclass Text Classification - LSTM.ipynb",
      "provenance": [],
      "collapsed_sections": []
    },
    "kernelspec": {
      "name": "python3",
      "display_name": "Python 3"
    },
    "language_info": {
      "name": "python"
    },
    "accelerator": "TPU"
  },
  "cells": [
    {
      "cell_type": "markdown",
      "metadata": {
        "id": "UrMUfP6BL16W"
      },
      "source": [
        "# Multiclass Text Classification using LSTM architecture\n",
        "(Runs best on a TPU)"
      ]
    },
    {
      "cell_type": "code",
      "metadata": {
        "id": "CEoxHe_-G9iV"
      },
      "source": [
        "import numpy as np\n",
        "import pandas as pd\n",
        "import matplotlib.pyplot as plt\n",
        "import seaborn as sns\n",
        "%matplotlib inline\n",
        "sns.set_style('whitegrid')"
      ],
      "execution_count": 43,
      "outputs": []
    },
    {
      "cell_type": "code",
      "metadata": {
        "colab": {
          "base_uri": "https://localhost:8080/"
        },
        "id": "K__63-sZHxF4",
        "outputId": "2f617319-eef6-4745-ca20-378c5da2e189"
      },
      "source": [
        "df = pd.read_csv('drive/MyDrive/Multiclass Text Classification/intent.csv')\n",
        "df.info()"
      ],
      "execution_count": 44,
      "outputs": [
        {
          "output_type": "stream",
          "text": [
            "<class 'pandas.core.frame.DataFrame'>\n",
            "RangeIndex: 6679 entries, 0 to 6678\n",
            "Data columns (total 11 columns):\n",
            " #   Column   Non-Null Count  Dtype  \n",
            "---  ------   --------------  -----  \n",
            " 0   motivos  6679 non-null   object \n",
            " 1   crec     6679 non-null   int64  \n",
            " 2   cred     6679 non-null   int64  \n",
            " 3   equ      6679 non-null   int64  \n",
            " 4   inic     6679 non-null   int64  \n",
            " 5   inv      6679 non-null   int64  \n",
            " 6   mkt      6679 non-null   int64  \n",
            " 7   no       6679 non-null   int64  \n",
            " 8   renta    6679 non-null   int64  \n",
            " 9   sueldo   6679 non-null   int64  \n",
            " 10  temp     6673 non-null   float64\n",
            "dtypes: float64(1), int64(9), object(1)\n",
            "memory usage: 574.1+ KB\n"
          ],
          "name": "stdout"
        }
      ]
    },
    {
      "cell_type": "code",
      "metadata": {
        "colab": {
          "base_uri": "https://localhost:8080/"
        },
        "id": "oiWdNrs3ImfB",
        "outputId": "6c8c0297-00c3-4aa0-d756-d6010afb4baf"
      },
      "source": [
        "df['temp'].fillna(df['temp'].median(), inplace=True)\n",
        "df.isna().sum()"
      ],
      "execution_count": 45,
      "outputs": [
        {
          "output_type": "execute_result",
          "data": {
            "text/plain": [
              "motivos    0\n",
              "crec       0\n",
              "cred       0\n",
              "equ        0\n",
              "inic       0\n",
              "inv        0\n",
              "mkt        0\n",
              "no         0\n",
              "renta      0\n",
              "sueldo     0\n",
              "temp       0\n",
              "dtype: int64"
            ]
          },
          "metadata": {
            "tags": []
          },
          "execution_count": 45
        }
      ]
    },
    {
      "cell_type": "code",
      "metadata": {
        "colab": {
          "base_uri": "https://localhost:8080/"
        },
        "id": "RWfNzAnKIoCD",
        "outputId": "94af301a-06bc-4a06-c8a4-a1a88e7428fa"
      },
      "source": [
        "df = df.astype({\"temp\":'int'}) \n",
        "df.info()"
      ],
      "execution_count": 46,
      "outputs": [
        {
          "output_type": "stream",
          "text": [
            "<class 'pandas.core.frame.DataFrame'>\n",
            "RangeIndex: 6679 entries, 0 to 6678\n",
            "Data columns (total 11 columns):\n",
            " #   Column   Non-Null Count  Dtype \n",
            "---  ------   --------------  ----- \n",
            " 0   motivos  6679 non-null   object\n",
            " 1   crec     6679 non-null   int64 \n",
            " 2   cred     6679 non-null   int64 \n",
            " 3   equ      6679 non-null   int64 \n",
            " 4   inic     6679 non-null   int64 \n",
            " 5   inv      6679 non-null   int64 \n",
            " 6   mkt      6679 non-null   int64 \n",
            " 7   no       6679 non-null   int64 \n",
            " 8   renta    6679 non-null   int64 \n",
            " 9   sueldo   6679 non-null   int64 \n",
            " 10  temp     6679 non-null   int64 \n",
            "dtypes: int64(10), object(1)\n",
            "memory usage: 574.1+ KB\n"
          ],
          "name": "stdout"
        }
      ]
    },
    {
      "cell_type": "code",
      "metadata": {
        "colab": {
          "base_uri": "https://localhost:8080/",
          "height": 293
        },
        "id": "TsW6-1IIHzC6",
        "outputId": "bead8eda-ff15-4ecf-eb1b-ec9e7b6c2df8"
      },
      "source": [
        "df['category'] = df.drop(['motivos'], axis=1).idxmax(axis=1)\n",
        "df['category_id'] = df['category'].factorize()[0]\n",
        "df.head()"
      ],
      "execution_count": 47,
      "outputs": [
        {
          "output_type": "execute_result",
          "data": {
            "text/html": [
              "<div>\n",
              "<style scoped>\n",
              "    .dataframe tbody tr th:only-of-type {\n",
              "        vertical-align: middle;\n",
              "    }\n",
              "\n",
              "    .dataframe tbody tr th {\n",
              "        vertical-align: top;\n",
              "    }\n",
              "\n",
              "    .dataframe thead th {\n",
              "        text-align: right;\n",
              "    }\n",
              "</style>\n",
              "<table border=\"1\" class=\"dataframe\">\n",
              "  <thead>\n",
              "    <tr style=\"text-align: right;\">\n",
              "      <th></th>\n",
              "      <th>motivos</th>\n",
              "      <th>crec</th>\n",
              "      <th>cred</th>\n",
              "      <th>equ</th>\n",
              "      <th>inic</th>\n",
              "      <th>inv</th>\n",
              "      <th>mkt</th>\n",
              "      <th>no</th>\n",
              "      <th>renta</th>\n",
              "      <th>sueldo</th>\n",
              "      <th>temp</th>\n",
              "      <th>category</th>\n",
              "      <th>category_id</th>\n",
              "    </tr>\n",
              "  </thead>\n",
              "  <tbody>\n",
              "    <tr>\n",
              "      <th>0</th>\n",
              "      <td>Crear un departamento de ventas e inversión a ...</td>\n",
              "      <td>0</td>\n",
              "      <td>0</td>\n",
              "      <td>0</td>\n",
              "      <td>0</td>\n",
              "      <td>0</td>\n",
              "      <td>1</td>\n",
              "      <td>0</td>\n",
              "      <td>0</td>\n",
              "      <td>0</td>\n",
              "      <td>0</td>\n",
              "      <td>mkt</td>\n",
              "      <td>0</td>\n",
              "    </tr>\n",
              "    <tr>\n",
              "      <th>1</th>\n",
              "      <td>establecerme en un local y agregar materia pri...</td>\n",
              "      <td>0</td>\n",
              "      <td>0</td>\n",
              "      <td>0</td>\n",
              "      <td>0</td>\n",
              "      <td>1</td>\n",
              "      <td>0</td>\n",
              "      <td>0</td>\n",
              "      <td>1</td>\n",
              "      <td>0</td>\n",
              "      <td>0</td>\n",
              "      <td>inv</td>\n",
              "      <td>1</td>\n",
              "    </tr>\n",
              "    <tr>\n",
              "      <th>2</th>\n",
              "      <td>Compra de equipo e incrementar inventario</td>\n",
              "      <td>0</td>\n",
              "      <td>0</td>\n",
              "      <td>1</td>\n",
              "      <td>0</td>\n",
              "      <td>1</td>\n",
              "      <td>0</td>\n",
              "      <td>0</td>\n",
              "      <td>0</td>\n",
              "      <td>0</td>\n",
              "      <td>0</td>\n",
              "      <td>equ</td>\n",
              "      <td>2</td>\n",
              "    </tr>\n",
              "    <tr>\n",
              "      <th>3</th>\n",
              "      <td>Invertir en crecimiento de flotilla de unidade...</td>\n",
              "      <td>0</td>\n",
              "      <td>0</td>\n",
              "      <td>1</td>\n",
              "      <td>0</td>\n",
              "      <td>0</td>\n",
              "      <td>0</td>\n",
              "      <td>0</td>\n",
              "      <td>0</td>\n",
              "      <td>0</td>\n",
              "      <td>0</td>\n",
              "      <td>equ</td>\n",
              "      <td>2</td>\n",
              "    </tr>\n",
              "    <tr>\n",
              "      <th>4</th>\n",
              "      <td>Para comprar mercancía y comprar lonas nuevas</td>\n",
              "      <td>0</td>\n",
              "      <td>0</td>\n",
              "      <td>0</td>\n",
              "      <td>0</td>\n",
              "      <td>1</td>\n",
              "      <td>0</td>\n",
              "      <td>0</td>\n",
              "      <td>0</td>\n",
              "      <td>0</td>\n",
              "      <td>0</td>\n",
              "      <td>inv</td>\n",
              "      <td>1</td>\n",
              "    </tr>\n",
              "  </tbody>\n",
              "</table>\n",
              "</div>"
            ],
            "text/plain": [
              "                                             motivos  ...  category_id\n",
              "0  Crear un departamento de ventas e inversión a ...  ...            0\n",
              "1  establecerme en un local y agregar materia pri...  ...            1\n",
              "2          Compra de equipo e incrementar inventario  ...            2\n",
              "3  Invertir en crecimiento de flotilla de unidade...  ...            2\n",
              "4      Para comprar mercancía y comprar lonas nuevas  ...            1\n",
              "\n",
              "[5 rows x 13 columns]"
            ]
          },
          "metadata": {
            "tags": []
          },
          "execution_count": 47
        }
      ]
    },
    {
      "cell_type": "code",
      "metadata": {
        "colab": {
          "base_uri": "https://localhost:8080/"
        },
        "id": "lC6DZJbhISqp",
        "outputId": "8105783a-40ad-49ec-d8a3-b97646380cc2"
      },
      "source": [
        "df.category.value_counts()"
      ],
      "execution_count": 48,
      "outputs": [
        {
          "output_type": "execute_result",
          "data": {
            "text/plain": [
              "inv       2048\n",
              "equ       1910\n",
              "crec       601\n",
              "renta      453\n",
              "no         440\n",
              "cred       422\n",
              "inic       372\n",
              "mkt        212\n",
              "temp       142\n",
              "sueldo      79\n",
              "Name: category, dtype: int64"
            ]
          },
          "metadata": {
            "tags": []
          },
          "execution_count": 48
        }
      ]
    },
    {
      "cell_type": "markdown",
      "metadata": {
        "id": "9blVFx8QNl5S"
      },
      "source": [
        "### Label Consolidation\n",
        "En este caso no hace falta"
      ]
    },
    {
      "cell_type": "code",
      "metadata": {
        "colab": {
          "base_uri": "https://localhost:8080/",
          "height": 397
        },
        "id": "ZfM5N6NqIUXz",
        "outputId": "59f5d2ac-50b9-40cc-bfa8-d314a4b5c37f"
      },
      "source": [
        "plt.figure(figsize=(8, 6))\n",
        "df['category'].value_counts().sort_values(ascending=False).plot(kind='bar')\n",
        "plt.ylabel('Frequency')\n",
        "plt.show()"
      ],
      "execution_count": 51,
      "outputs": [
        {
          "output_type": "display_data",
          "data": {
            "image/png": "[encoded data removed]",
            "text/plain": [
              "<Figure size 576x432 with 1 Axes>"
            ]
          },
          "metadata": {
            "tags": []
          }
        }
      ]
    },
    {
      "cell_type": "markdown",
      "metadata": {
        "id": "0Q2mJXOjNpxK"
      },
      "source": [
        "## Text Pre-processing\n",
        "Our text preprocessing will include the following steps:\n",
        "\n",
        "- Convert all text to lower case.\n",
        "- Replace REPLACE_BY_SPACE_RE symbols by space in text.\n",
        "- Remove symbols that are in BAD_SYMBOLS_RE from text.\n",
        "- Remove “x” in text.\n",
        "- Remove stop words.\n",
        "- Remove digits in text."
      ]
    },
    {
      "cell_type": "code",
      "metadata": {
        "id": "rnivJCNxIWsu"
      },
      "source": [
        "def print_plot(index):\n",
        "    example = df[df.index == index][['motivos', 'category']].values[0]\n",
        "    if len(example) > 0:\n",
        "        print(example[0])\n",
        "        print('category:', example[1])"
      ],
      "execution_count": 28,
      "outputs": []
    },
    {
      "cell_type": "code",
      "metadata": {
        "colab": {
          "base_uri": "https://localhost:8080/"
        },
        "id": "uE2coGhoNuxs",
        "outputId": "78a2a360-89cc-4975-aac3-c78521d22178"
      },
      "source": [
        "print_plot(10)\n",
        "print_plot(100)"
      ],
      "execution_count": 29,
      "outputs": [
        {
          "output_type": "stream",
          "text": [
            "INVENTARIO PARA VENDER MUEBLES DE OFICINA\n",
            "category: inv\n",
            "Enganche de dos autos para aumentar flotilla de carros uber\n",
            "category: equ\n"
          ],
          "name": "stdout"
        }
      ]
    },
    {
      "cell_type": "markdown",
      "metadata": {
        "id": "FO27znyjNzwl"
      },
      "source": [
        "A qué le llaman enganche en méjico?"
      ]
    },
    {
      "cell_type": "code",
      "metadata": {
        "colab": {
          "base_uri": "https://localhost:8080/"
        },
        "id": "sdNpEMu0IZEN",
        "outputId": "97dc40ef-1297-46bb-ba73-d2b5f68cfe5b"
      },
      "source": [
        "import nltk\n",
        "nltk.download('stopwords')\n",
        "\n",
        "from nltk.corpus import stopwords\n",
        "import re\n",
        "\n",
        "df = df.reset_index(drop=True)\n",
        "\n",
        "REPLACE_BY_SPACE_RE = re.compile('[/(){}\\[\\]\\|@,;]')\n",
        "BAD_SYMBOLS_RE = re.compile('[^0-9a-z #+_]')\n",
        "STOPWORDS = set(stopwords.words('spanish'))\n",
        "\n",
        "def clean_text(text):\n",
        "    \"\"\"\n",
        "        text: a string\n",
        "        \n",
        "        return: modified initial string\n",
        "    \"\"\"\n",
        "    text = text.lower() # lowercase text\n",
        "    text = REPLACE_BY_SPACE_RE.sub(' ', text) # replace REPLACE_BY_SPACE_RE symbols by space in text. substitute the matched string in REPLACE_BY_SPACE_RE with space.\n",
        "    text = BAD_SYMBOLS_RE.sub('', text) # remove symbols which are in BAD_SYMBOLS_RE from text. substitute the matched string in BAD_SYMBOLS_RE with nothing. \n",
        "    text = text.replace('x', '')\n",
        "#    text = re.sub(r'\\W+', '', text)\n",
        "    text = ' '.join(word for word in text.split() if word not in STOPWORDS) # remove stopwors from text\n",
        "    return text\n",
        "df['motivos'] = df['motivos'].apply(clean_text)\n",
        "df['motivos'] = df['motivos'].str.replace('\\d+', '')"
      ],
      "execution_count": 30,
      "outputs": [
        {
          "output_type": "stream",
          "text": [
            "[nltk_data] Downloading package stopwords to /root/nltk_data...\n",
            "[nltk_data]   Package stopwords is already up-to-date!\n"
          ],
          "name": "stdout"
        }
      ]
    },
    {
      "cell_type": "code",
      "metadata": {
        "colab": {
          "base_uri": "https://localhost:8080/"
        },
        "id": "RxoCgJalN4UE",
        "outputId": "28a54dbb-993b-418e-98ef-3a8a4520e5d5"
      },
      "source": [
        "print_plot(10)\n",
        "print_plot(100)\n",
        "print_plot(9)\n",
        "print_plot(7)"
      ],
      "execution_count": 31,
      "outputs": [
        {
          "output_type": "stream",
          "text": [
            "inventario vender muebles oficina\n",
            "category: inv\n",
            "enganche dos autos aumentar flotilla carros uber\n",
            "category: equ\n",
            "crdito quiero adaptar local propiedad venta formal comida\n",
            "category: inic\n",
            "ampliaciin negocio rentar mashabitaciones\n",
            "category: crec\n"
          ],
          "name": "stdout"
        }
      ]
    },
    {
      "cell_type": "markdown",
      "metadata": {
        "id": "ibg3cm5qLTwW"
      },
      "source": [
        "Después del pre procesamiento, hay palabras con typos que no se pierden, que los spell checkers online al menos no pueden corregir. En caso de tener que hacerlo a mano, hay que tener una idea de cuánto puede llegar a impactar. Da la impresión de que el porcentaje de casos es chico, con lo cual posiblemente no afecte mucho."
      ]
    },
    {
      "cell_type": "markdown",
      "metadata": {
        "id": "MUSx6FR1N_Br"
      },
      "source": [
        "## LSTM Modeling\n",
        "- Vectorize consumer complaints text, by turning each text into either a sequence of integers or into a vector.\n",
        "- Limit the data set to the top 5,0000 words.\n",
        "- Set the max number of words in each complaint at 250.\n",
        "\n",
        "Estas cosas las tendría que **tunear**."
      ]
    },
    {
      "cell_type": "code",
      "metadata": {
        "colab": {
          "base_uri": "https://localhost:8080/"
        },
        "id": "Bj2IF8P5Ibx_",
        "outputId": "61b38a91-5ce5-4cbb-e263-da49d9bb92fe"
      },
      "source": [
        "from keras.preprocessing.text import Tokenizer\n",
        "\n",
        "# The maximum number of words to be used. (most frequent)\n",
        "MAX_NB_WORDS = 50000\n",
        "# Max number of words in each complaint.\n",
        "MAX_SEQUENCE_LENGTH = 250\n",
        "# This is fixed.\n",
        "EMBEDDING_DIM = 100\n",
        "\n",
        "tokenizer = Tokenizer(num_words=MAX_NB_WORDS, filters='!\"#$%&()*+,-./:;<=>?@[\\]^_`{|}~', lower=True)\n",
        "tokenizer.fit_on_texts(df['motivos'].values)\n",
        "word_index = tokenizer.word_index\n",
        "print('Found %s unique tokens.' % len(word_index))"
      ],
      "execution_count": 32,
      "outputs": [
        {
          "output_type": "stream",
          "text": [
            "Found 7993 unique tokens.\n"
          ],
          "name": "stdout"
        }
      ]
    },
    {
      "cell_type": "markdown",
      "metadata": {
        "id": "GG1U5GuX1d7D"
      },
      "source": [
        "Truncate and pad the input sequences so that they are all in the same length for modeling:"
      ]
    },
    {
      "cell_type": "code",
      "metadata": {
        "colab": {
          "base_uri": "https://localhost:8080/"
        },
        "id": "fm3Y7tPkIkRI",
        "outputId": "60bf82fe-0aa6-4963-9434-e6583692b0be"
      },
      "source": [
        "from keras.preprocessing.sequence import pad_sequences\n",
        "\n",
        "X = tokenizer.texts_to_sequences(df['motivos'].values)\n",
        "X = pad_sequences(X, maxlen=MAX_SEQUENCE_LENGTH)\n",
        "\n",
        "print('Shape of data tensor:', X.shape)"
      ],
      "execution_count": 33,
      "outputs": [
        {
          "output_type": "stream",
          "text": [
            "Shape of data tensor: (6679, 250)\n"
          ],
          "name": "stdout"
        }
      ]
    },
    {
      "cell_type": "markdown",
      "metadata": {
        "id": "GTWVkVNUOHfV"
      },
      "source": [
        "### Converting categorical labels to numbers - ya está\n",
        "Para la target tendría que tirar category category_id?"
      ]
    },
    {
      "cell_type": "code",
      "metadata": {
        "colab": {
          "base_uri": "https://localhost:8080/"
        },
        "id": "TuQcouWZIqtF",
        "outputId": "baed5e86-6e6c-44ae-bcf4-9c18e234c383"
      },
      "source": [
        "# Y = pd.get_dummies(df['Product']).values\n",
        "\n",
        "Y = df.drop(['motivos', 'category', 'category_id'], axis=1)\n",
        "print('Shape of label tensor:', Y.shape)"
      ],
      "execution_count": 34,
      "outputs": [
        {
          "output_type": "stream",
          "text": [
            "Shape of label tensor: (6679, 10)\n"
          ],
          "name": "stdout"
        }
      ]
    },
    {
      "cell_type": "code",
      "metadata": {
        "colab": {
          "base_uri": "https://localhost:8080/"
        },
        "id": "tpbWyeAeIs8l",
        "outputId": "05e0c81b-dac7-442b-e8d4-03412a390729"
      },
      "source": [
        "from sklearn.model_selection import train_test_split\n",
        "\n",
        "X_train, X_test, Y_train, Y_test = train_test_split(X,Y, test_size = 0.10, random_state = 42)\n",
        "\n",
        "print(X_train.shape,Y_train.shape)\n",
        "print(X_test.shape,Y_test.shape)"
      ],
      "execution_count": 35,
      "outputs": [
        {
          "output_type": "stream",
          "text": [
            "(6011, 250) (6011, 10)\n",
            "(668, 250) (668, 10)\n"
          ],
          "name": "stdout"
        }
      ]
    },
    {
      "cell_type": "code",
      "metadata": {
        "colab": {
          "base_uri": "https://localhost:8080/"
        },
        "id": "wgpl9UWNIvp4",
        "outputId": "c0548ec5-a2b6-4399-8b9e-35f55e504698"
      },
      "source": [
        "from sklearn.model_selection import train_test_split\n",
        "\n",
        "X_train, X_test, Y_train, Y_test = train_test_split(X,Y, test_size = 0.10, random_state = 42)\n",
        "\n",
        "print(X_train.shape,Y_train.shape)\n",
        "print(X_test.shape,Y_test.shape)"
      ],
      "execution_count": 36,
      "outputs": [
        {
          "output_type": "stream",
          "text": [
            "(6011, 250) (6011, 10)\n",
            "(668, 250) (668, 10)\n"
          ],
          "name": "stdout"
        }
      ]
    },
    {
      "cell_type": "markdown",
      "metadata": {
        "id": "6aB2mZgrOMV6"
      },
      "source": [
        "- The first layer is the embedded layer that uses 100 length vectors to represent each word.\n",
        "- SpatialDropout1D performs variational dropout in NLP models.\n",
        "- The next layer is the LSTM layer with 100 memory units.\n",
        "- The output layer must create 13 output values, one for each class.\n",
        "- Activation function is softmax for multi-class classification.\n",
        "- Because it is a multi-class classification problem, categorical_crossentropy is used as the loss function."
      ]
    },
    {
      "cell_type": "code",
      "metadata": {
        "colab": {
          "base_uri": "https://localhost:8080/"
        },
        "id": "5eJ73URwIxLx",
        "outputId": "e39b7d72-6542-4638-f2a6-c2bc18028366"
      },
      "source": [
        "from keras.models import Sequential\n",
        "from keras.layers import Dense, LSTM, Embedding, SpatialDropout1D\n",
        "from tensorflow.keras.callbacks import ModelCheckpoint, EarlyStopping, ReduceLROnPlateau, CSVLogger\n",
        "\n",
        "model_check = ModelCheckpoint('drive/MyDrive/Multiclass Text Classification/best_model.h5', monitor='val_accuracy', verbose=0, save_best_only=True, mode='max')\n",
        "early = EarlyStopping(monitor='val_accuracy', min_delta=0, patience=5, verbose=0, mode='max', restore_best_weights=True)\n",
        "reduce_lr = ReduceLROnPlateau(monitor='val_loss', factor=0.2, patience=5, min_lr=0.001)\n",
        "csv_logger = CSVLogger('drive/MyDrive/Multiclass Text Classification/train_log.csv', separator=',')\n",
        "\n",
        "model = Sequential()\n",
        "model.add(Embedding(MAX_NB_WORDS, EMBEDDING_DIM, input_length=X.shape[1]))\n",
        "model.add(SpatialDropout1D(0.2))\n",
        "model.add(LSTM(100, dropout=0.2, recurrent_dropout=0.2))\n",
        "model.add(Dense(10, activation='softmax'))\n",
        "model.compile(loss='categorical_crossentropy', optimizer='adam', metrics=['accuracy'])\n",
        "\n",
        "epochs = 50\n",
        "batch_size = 64\n",
        "# batch_size = 32\n",
        "\n",
        "# history = model.fit(X_train, Y_train, epochs=epochs, batch_size=batch_size,validation_split=0.1,callbacks=[EarlyStopping(monitor='val_loss', patience=3, min_delta=0.0001)])\n",
        "history = model.fit(X_train, Y_train, epochs=epochs, batch_size=batch_size,validation_split=0.1,callbacks=[model_check, early, reduce_lr, csv_logger])"
      ],
      "execution_count": 37,
      "outputs": [
        {
          "output_type": "stream",
          "text": [
            "Epoch 1/50\n",
            "85/85 [==============================] - 99s 826ms/step - loss: 2.3742 - accuracy: 0.2894 - val_loss: 2.1334 - val_accuracy: 0.3870\n",
            "Epoch 2/50\n",
            "85/85 [==============================] - 69s 809ms/step - loss: 2.1127 - accuracy: 0.4125 - val_loss: 1.7399 - val_accuracy: 0.5365\n",
            "Epoch 3/50\n",
            "85/85 [==============================] - 68s 803ms/step - loss: 1.6565 - accuracy: 0.5679 - val_loss: 1.5173 - val_accuracy: 0.5963\n",
            "Epoch 4/50\n",
            "85/85 [==============================] - 69s 815ms/step - loss: 1.4399 - accuracy: 0.6455 - val_loss: 1.4317 - val_accuracy: 0.6279\n",
            "Epoch 5/50\n",
            "85/85 [==============================] - 68s 801ms/step - loss: 1.2606 - accuracy: 0.7124 - val_loss: 1.3824 - val_accuracy: 0.6512\n",
            "Epoch 6/50\n",
            "85/85 [==============================] - 69s 811ms/step - loss: 1.1139 - accuracy: 0.7583 - val_loss: 1.3818 - val_accuracy: 0.6578\n",
            "Epoch 7/50\n",
            "85/85 [==============================] - 69s 810ms/step - loss: 0.9899 - accuracy: 0.8065 - val_loss: 1.3673 - val_accuracy: 0.6661\n",
            "Epoch 8/50\n",
            "85/85 [==============================] - 69s 816ms/step - loss: 0.9182 - accuracy: 0.8274 - val_loss: 1.4135 - val_accuracy: 0.6545\n",
            "Epoch 9/50\n",
            "85/85 [==============================] - 70s 821ms/step - loss: 0.8376 - accuracy: 0.8492 - val_loss: 1.4478 - val_accuracy: 0.6561\n",
            "Epoch 10/50\n",
            "85/85 [==============================] - 68s 799ms/step - loss: 0.7846 - accuracy: 0.8650 - val_loss: 1.4990 - val_accuracy: 0.6611\n",
            "Epoch 11/50\n",
            "85/85 [==============================] - 68s 800ms/step - loss: 0.7535 - accuracy: 0.8662 - val_loss: 1.7082 - val_accuracy: 0.6478\n",
            "Epoch 12/50\n",
            "85/85 [==============================] - 69s 810ms/step - loss: 0.7379 - accuracy: 0.8709 - val_loss: 1.6143 - val_accuracy: 0.6528\n"
          ],
          "name": "stdout"
        }
      ]
    },
    {
      "cell_type": "code",
      "metadata": {
        "colab": {
          "base_uri": "https://localhost:8080/"
        },
        "id": "IcY68z_LIzFX",
        "outputId": "ce39c130-12c7-435a-fb49-7fdc4e903507"
      },
      "source": [
        "accr = model.evaluate(X_test,Y_test)\n",
        "print('Test set\\n  Loss: {:0.3f}\\n  Accuracy: {:0.3f}'.format(accr[0],accr[1]))\n",
        "\n",
        "print(model.metrics_names)"
      ],
      "execution_count": 38,
      "outputs": [
        {
          "output_type": "stream",
          "text": [
            "21/21 [==============================] - 1s 67ms/step - loss: 1.5310 - accuracy: 0.6482\n",
            "Test set\n",
            "  Loss: 1.531\n",
            "  Accuracy: 0.648\n",
            "['loss', 'accuracy']\n"
          ],
          "name": "stdout"
        }
      ]
    },
    {
      "cell_type": "code",
      "metadata": {
        "colab": {
          "base_uri": "https://localhost:8080/",
          "height": 388
        },
        "id": "ZT0ENOpmL73C",
        "outputId": "83edb41e-0863-411a-9d56-ab7a65b5dae6"
      },
      "source": [
        "plt.figure(figsize=(10, 6))\n",
        "plt.plot(history.history['loss'], label='train')\n",
        "plt.plot(history.history['val_loss'], label='test')\n",
        "plt.xlabel('Number of epochs')\n",
        "plt.ylabel('Loss')\n",
        "plt.legend()\n",
        "plt.show();"
      ],
      "execution_count": 59,
      "outputs": [
        {
          "output_type": "display_data",
          "data": {
            "image/png": "[encoded data removed]",
            "text/plain": [
              "<Figure size 720x432 with 1 Axes>"
            ]
          },
          "metadata": {
            "tags": []
          }
        }
      ]
    },
    {
      "cell_type": "code",
      "metadata": {
        "colab": {
          "base_uri": "https://localhost:8080/",
          "height": 388
        },
        "id": "aU0nNw8LMBrj",
        "outputId": "90075a43-4916-4eff-a5cb-63c243764000"
      },
      "source": [
        "plt.figure(figsize=(10, 6))\n",
        "plt.plot(history.history['accuracy'], label='train')\n",
        "plt.plot(history.history['val_accuracy'], label='test')\n",
        "plt.xlabel('Number of epochs')\n",
        "plt.ylabel('Accuracy')\n",
        "plt.legend()\n",
        "plt.show();"
      ],
      "execution_count": 57,
      "outputs": [
        {
          "output_type": "display_data",
          "data": {
            "image/png": "[encoded data removed]",
            "text/plain": [
              "<Figure size 720x432 with 1 Axes>"
            ]
          },
          "metadata": {
            "tags": []
          }
        }
      ]
    },
    {
      "cell_type": "code",
      "metadata": {
        "colab": {
          "base_uri": "https://localhost:8080/",
          "height": 388
        },
        "id": "58wSEx4an424",
        "outputId": "365c981f-d189-4879-ce9e-2cfd3e730ae3"
      },
      "source": [
        "q = len(list(history.history['loss']))\n",
        "plt.figure(figsize=(10, 6))\n",
        "sns.lineplot(x = range(1, 1+q), y = history.history['accuracy'], label = 'Accuracy')\n",
        "sns.lineplot(x = range(1, 1+q), y = history.history['loss'], label = 'Loss')\n",
        "plt.xlabel('Number of epochs')\n",
        "plt.ylabel('Training')\n",
        "plt.legend();"
      ],
      "execution_count": 56,
      "outputs": [
        {
          "output_type": "display_data",
          "data": {
            "image/png": "[encoded data removed]",
            "text/plain": [
              "<Figure size 720x432 with 1 Axes>"
            ]
          },
          "metadata": {
            "tags": []
          }
        }
      ]
    },
    {
      "cell_type": "code",
      "metadata": {
        "id": "rEro2u0KhvFI"
      },
      "source": [
        "# Saving the model\n",
        "model.save('drive/MyDrive/Multiclass Text Classification/LSTM_2.h5')"
      ],
      "execution_count": 42,
      "outputs": []
    },
    {
      "cell_type": "markdown",
      "metadata": {
        "id": "ulj29CdnMWbR"
      },
      "source": [
        "# Qué mejorar\n",
        "- Armar un primer documento\n",
        "- Comparar con lo que lograron ellos:\n",
        "  - Las otras métricas están implementadas en lo de Susan Li.\n",
        "\n",
        "  - Usar precision. Eso se cambia en model.compile\n",
        "    - Usually when the class distribution is unbalanced (like we have here), accuracy is considered a poor choice as it gives high scores to models which just predict the most frequent class so **F1 score is a better choice** in our case.\n",
        "    \n",
        "    - For multiclass classification you also need to select the **type of averaging** for these metrics as they are **calculated per class**. The discussion of what’s best and what you should use depends on your situation and is beyond the scope of this article but in general I find macro averaging the most useful (which is what I’m using here). It computes F1 scores for each class and returns the average of those scores. Remember though, the real test is how they perform on unseen articles.\n",
        "  - Mirar el loss score\n",
        "  - Dónde pongo el weakness score\n",
        "- Solucionar el overfitting\n",
        "  - hyperparameters? batch size?"
      ]
    },
    {
      "cell_type": "code",
      "metadata": {
        "id": "CNGtul-xmoKw"
      },
      "source": [
        ""
      ],
      "execution_count": null,
      "outputs": []
    }
  ]
}